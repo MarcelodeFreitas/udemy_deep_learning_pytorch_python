{
  "cells": [
    {
      "cell_type": "markdown",
      "metadata": {
        "colab_type": "text",
        "id": "view-in-github"
      },
      "source": [
        "<a href=\"https://colab.research.google.com/github/MarcelodeFreitas/udemy_deep_learning_pytorch_python/blob/main/Projeto_4_Classifica%C3%A7%C3%A3o_bin%C3%A1ria_breast_cancer_classificar_somente_um_registro_e_salvar_o_classificador.ipynb\" target=\"_parent\"><img src=\"https://colab.research.google.com/assets/colab-badge.svg\" alt=\"Open In Colab\"/></a>"
      ]
    },
    {
      "cell_type": "markdown",
      "metadata": {
        "id": "rD_RSER5Lkb5"
      },
      "source": [
        "# Projeto 4: Classificação binária brest cancer - classificar somente um registro e salvar o classificador"
      ]
    },
    {
      "cell_type": "markdown",
      "metadata": {
        "id": "5tP2BcEILoLB"
      },
      "source": [
        "## Etapa 1: Importação das bibliotecas"
      ]
    },
    {
      "cell_type": "code",
      "execution_count": 4,
      "metadata": {
        "colab": {
          "base_uri": "https://localhost:8080/",
          "height": 35
        },
        "id": "Yf0FpJ35Lf-Z",
        "outputId": "fedcc182-2bcf-4137-c758-a59e11bdc221"
      },
      "outputs": [
        {
          "data": {
            "text/plain": [
              "'1.13.1+cpu'"
            ]
          },
          "execution_count": 4,
          "metadata": {},
          "output_type": "execute_result"
        }
      ],
      "source": [
        "import pandas as pd\n",
        "from sklearn.model_selection import train_test_split\n",
        "import numpy as np\n",
        "import seaborn as sns\n",
        "from sklearn.metrics import confusion_matrix, accuracy_score\n",
        "import torch\n",
        "import torch.nn as nn\n",
        "torch.__version__"
      ]
    },
    {
      "cell_type": "markdown",
      "metadata": {
        "id": "C0SD4dJ4MDMN"
      },
      "source": [
        "## Etapa 2: Base de dados"
      ]
    },
    {
      "cell_type": "code",
      "execution_count": 5,
      "metadata": {
        "colab": {
          "base_uri": "https://localhost:8080/",
          "height": 35
        },
        "id": "J9aIu62WMGo8",
        "outputId": "9e8f53b5-b26c-4dae-99c0-f939041e3edd"
      },
      "outputs": [
        {
          "data": {
            "text/plain": [
              "<torch._C.Generator at 0x23087266f70>"
            ]
          },
          "execution_count": 5,
          "metadata": {},
          "output_type": "execute_result"
        }
      ],
      "source": [
        "np.random.seed(123)\n",
        "torch.manual_seed(123)"
      ]
    },
    {
      "cell_type": "code",
      "execution_count": 6,
      "metadata": {
        "id": "u49yuDE9MJs6"
      },
      "outputs": [],
      "source": [
        "previsores = pd.read_csv('./databases/entradas_breast.csv')\n",
        "classe = pd.read_csv('./databases/saidas_breast.csv')"
      ]
    },
    {
      "cell_type": "code",
      "execution_count": 7,
      "metadata": {
        "id": "9FpRPDPysaAR"
      },
      "outputs": [],
      "source": [
        "previsores = torch.tensor(np.array(previsores), dtype = torch.float)\n",
        "classe = torch.tensor(np.array(classe), dtype = torch.float)"
      ]
    },
    {
      "cell_type": "code",
      "execution_count": 8,
      "metadata": {
        "colab": {
          "base_uri": "https://localhost:8080/",
          "height": 35
        },
        "id": "jNvzT-k0f2rh",
        "outputId": "a1789d41-e1fc-4932-e096-416ba3913ce0"
      },
      "outputs": [
        {
          "data": {
            "text/plain": [
              "torch.Tensor"
            ]
          },
          "execution_count": 8,
          "metadata": {},
          "output_type": "execute_result"
        }
      ],
      "source": [
        "type(previsores)"
      ]
    },
    {
      "cell_type": "markdown",
      "metadata": {
        "id": "72uvlxJrOuWd"
      },
      "source": [
        "## Etapa 3: Transformação dos dados para tensores\n"
      ]
    },
    {
      "cell_type": "code",
      "execution_count": 9,
      "metadata": {
        "id": "dtRWhopTQh0a"
      },
      "outputs": [],
      "source": [
        "train_loader = torch.utils.data.DataLoader(torch.utils.data.TensorDataset(previsores, classe), batch_size = 10, shuffle = True)"
      ]
    },
    {
      "cell_type": "markdown",
      "metadata": {
        "id": "QGDLesyDQpIb"
      },
      "source": [
        "## Etapa 4: Construção do modelo"
      ]
    },
    {
      "cell_type": "code",
      "execution_count": 10,
      "metadata": {
        "id": "K9SHCjuqQuax"
      },
      "outputs": [],
      "source": [
        "class classificador_torch(nn.Module):\n",
        "    def __init__(self):\n",
        "        super().__init__()\n",
        "        self.dense0 = nn.Linear(30, 8)\n",
        "        # Mesmos parâmetors usados pelo kernel initializer do Keras [https://keras.io/initializers/, ver sessão RandomNormal]\n",
        "        torch.nn.init.normal_(self.dense0.weight, mean = 0.0, std= 0.05)\n",
        "        self.dense1 = nn.Linear(8, 8)\n",
        "        torch.nn.init.normal_(self.dense1.weight, mean = 0.0, std= 0.05)\n",
        "        self.dense2 = nn.Linear(8, 1)\n",
        "        self.activation = nn.ReLU()\n",
        "        self.dropout = nn.Dropout(0.2)\n",
        "        self.output = nn.Sigmoid()\n",
        "\n",
        "    def forward(self, X):\n",
        "        X = self.dense0(X)\n",
        "        X = self.activation(X)\n",
        "        X = self.dropout(X)\n",
        "        X = self.dense1(X)\n",
        "        X = self.activation(X)\n",
        "        X = self.dropout(X)\n",
        "        X = self.dense2(X)\n",
        "        X = self.output(X)\n",
        "        return X"
      ]
    },
    {
      "cell_type": "code",
      "execution_count": 11,
      "metadata": {
        "id": "Q_7v8RZPs85E"
      },
      "outputs": [],
      "source": [
        "classificador = classificador_torch()"
      ]
    },
    {
      "cell_type": "code",
      "execution_count": 12,
      "metadata": {
        "id": "6fm4mbCotCSf"
      },
      "outputs": [],
      "source": [
        "criterion = nn.BCELoss()\n",
        "optimizer = torch.optim.Adam(classificador.parameters(), lr = 0.001,\n",
        "                             weight_decay = 0.0001)"
      ]
    },
    {
      "cell_type": "markdown",
      "metadata": {
        "id": "appMwDHtRTN5"
      },
      "source": [
        "## Etapa 5: Treinamento do modelo"
      ]
    },
    {
      "cell_type": "code",
      "execution_count": 13,
      "metadata": {
        "colab": {
          "base_uri": "https://localhost:8080/",
          "height": 1000
        },
        "id": "hLi-Elc8RVSJ",
        "outputId": "282439c2-ecdd-447e-e738-34c490ce71c1"
      },
      "outputs": [
        {
          "name": "stdout",
          "output_type": "stream",
          "text": [
            "Época   1: perda 2.00713\n",
            "Época   2: perda 0.74530\n",
            "Época   3: perda 0.65829\n",
            "Época   4: perda 0.63484\n",
            "Época   5: perda 0.60440\n",
            "Época   6: perda 0.58194\n",
            "Época   7: perda 0.55260\n",
            "Época   8: perda 0.51667\n",
            "Época   9: perda 0.50661\n",
            "Época  10: perda 0.49246\n",
            "Época  11: perda 0.51614\n",
            "Época  12: perda 0.45838\n",
            "Época  13: perda 0.46064\n",
            "Época  14: perda 0.46265\n",
            "Época  15: perda 0.42716\n",
            "Época  16: perda 0.44734\n",
            "Época  17: perda 0.41308\n",
            "Época  18: perda 0.41712\n",
            "Época  19: perda 0.39283\n",
            "Época  20: perda 0.38883\n",
            "Época  21: perda 0.38020\n",
            "Época  22: perda 0.38620\n",
            "Época  23: perda 0.38924\n",
            "Época  24: perda 0.34543\n",
            "Época  25: perda 0.37637\n",
            "Época  26: perda 0.34537\n",
            "Época  27: perda 0.34335\n",
            "Época  28: perda 0.32737\n",
            "Época  29: perda 0.34000\n",
            "Época  30: perda 0.32594\n",
            "Época  31: perda 0.32785\n",
            "Época  32: perda 0.32035\n",
            "Época  33: perda 0.32407\n",
            "Época  34: perda 0.33554\n",
            "Época  35: perda 0.31132\n",
            "Época  36: perda 0.28811\n",
            "Época  37: perda 0.28319\n",
            "Época  38: perda 0.27922\n",
            "Época  39: perda 0.27540\n",
            "Época  40: perda 0.26621\n",
            "Época  41: perda 0.28606\n",
            "Época  42: perda 0.27349\n",
            "Época  43: perda 0.25590\n",
            "Época  44: perda 0.26556\n",
            "Época  45: perda 0.27176\n",
            "Época  46: perda 0.23999\n",
            "Época  47: perda 0.26314\n",
            "Época  48: perda 0.22901\n",
            "Época  49: perda 0.24117\n",
            "Época  50: perda 0.27854\n",
            "Época  51: perda 0.26615\n",
            "Época  52: perda 0.25361\n",
            "Época  53: perda 0.23450\n",
            "Época  54: perda 0.26356\n",
            "Época  55: perda 0.28785\n",
            "Época  56: perda 0.29558\n",
            "Época  57: perda 0.26225\n",
            "Época  58: perda 0.23575\n",
            "Época  59: perda 0.25388\n",
            "Época  60: perda 0.22905\n",
            "Época  61: perda 0.24619\n",
            "Época  62: perda 0.21919\n",
            "Época  63: perda 0.24377\n",
            "Época  64: perda 0.27559\n",
            "Época  65: perda 0.24177\n",
            "Época  66: perda 0.24419\n",
            "Época  67: perda 0.21682\n",
            "Época  68: perda 0.22719\n",
            "Época  69: perda 0.23715\n",
            "Época  70: perda 0.25724\n",
            "Época  71: perda 0.25356\n",
            "Época  72: perda 0.23106\n",
            "Época  73: perda 0.21999\n",
            "Época  74: perda 0.20776\n",
            "Época  75: perda 0.25317\n",
            "Época  76: perda 0.22868\n",
            "Época  77: perda 0.25682\n",
            "Época  78: perda 0.22902\n",
            "Época  79: perda 0.21633\n",
            "Época  80: perda 0.22320\n",
            "Época  81: perda 0.24175\n",
            "Época  82: perda 0.27023\n",
            "Época  83: perda 0.22330\n",
            "Época  84: perda 0.25271\n",
            "Época  85: perda 0.25407\n",
            "Época  86: perda 0.21851\n",
            "Época  87: perda 0.20307\n",
            "Época  88: perda 0.24805\n",
            "Época  89: perda 0.23938\n",
            "Época  90: perda 0.24730\n",
            "Época  91: perda 0.23537\n",
            "Época  92: perda 0.25501\n",
            "Época  93: perda 0.22670\n",
            "Época  94: perda 0.23123\n",
            "Época  95: perda 0.26245\n",
            "Época  96: perda 0.25241\n",
            "Época  97: perda 0.25813\n",
            "Época  98: perda 0.25057\n",
            "Época  99: perda 0.25331\n",
            "Época 100: perda 0.23686\n"
          ]
        }
      ],
      "source": [
        "for epoch in range(100):\n",
        "    running_loss = 0.\n",
        "\n",
        "    for data in train_loader:\n",
        "        inputs, labels = data\n",
        "        optimizer.zero_grad()\n",
        "\n",
        "        outputs = classificador(inputs)\n",
        "        loss = criterion(outputs, labels)\n",
        "        loss.backward()\n",
        "        optimizer.step()\n",
        "\n",
        "        running_loss += loss.item()\n",
        "\n",
        "    print('Época %3d: perda %.5f' % (epoch+1, running_loss/len(train_loader)))"
      ]
    },
    {
      "cell_type": "markdown",
      "metadata": {
        "id": "ITUtUdQNSJcs"
      },
      "source": [
        "## Etapa 6: Classificar somente um registro"
      ]
    },
    {
      "cell_type": "code",
      "execution_count": 14,
      "metadata": {
        "id": "Ov6lKERhSDNS"
      },
      "outputs": [],
      "source": [
        "novo = torch.tensor([[15.80, 8.34, 118, 900, 0.10, 0.26, 0.08, 0.134, 0.178,\n",
        "                  0.20, 0.05, 1098, 0.87, 4500, 145.2, 0.005, 0.04, 0.05, 0.015,\n",
        "                  0.03, 0.007, 23.15, 16.64, 178.5, 2018, 0.14, 0.185,\n",
        "                  0.84, 158, 0.363]], dtype = torch.float)"
      ]
    },
    {
      "cell_type": "code",
      "execution_count": 15,
      "metadata": {
        "colab": {
          "base_uri": "https://localhost:8080/",
          "height": 155
        },
        "id": "5EAN_Xd7hHZb",
        "outputId": "c7dec203-eaed-425b-a6c7-d982004b0dfe"
      },
      "outputs": [
        {
          "data": {
            "text/plain": [
              "classificador_torch(\n",
              "  (dense0): Linear(in_features=30, out_features=8, bias=True)\n",
              "  (dense1): Linear(in_features=8, out_features=8, bias=True)\n",
              "  (dense2): Linear(in_features=8, out_features=1, bias=True)\n",
              "  (activation): ReLU()\n",
              "  (dropout): Dropout(p=0.2, inplace=False)\n",
              "  (output): Sigmoid()\n",
              ")"
            ]
          },
          "execution_count": 15,
          "metadata": {},
          "output_type": "execute_result"
        }
      ],
      "source": [
        "classificador.eval()"
      ]
    },
    {
      "cell_type": "code",
      "execution_count": 16,
      "metadata": {
        "id": "cPR2UpABhMPh"
      },
      "outputs": [],
      "source": [
        "previsao = classificador(novo)"
      ]
    },
    {
      "cell_type": "code",
      "execution_count": 17,
      "metadata": {
        "colab": {
          "base_uri": "https://localhost:8080/",
          "height": 35
        },
        "id": "UkGgtU2RhQIk",
        "outputId": "d4cf6c42-e217-4101-ddb7-39c99cdadb74"
      },
      "outputs": [
        {
          "data": {
            "text/plain": [
              "tensor([[1.]], grad_fn=<SigmoidBackward0>)"
            ]
          },
          "execution_count": 17,
          "metadata": {},
          "output_type": "execute_result"
        }
      ],
      "source": [
        "previsao"
      ]
    },
    {
      "cell_type": "code",
      "execution_count": 18,
      "metadata": {
        "id": "Tp8Tn8L1hT6B"
      },
      "outputs": [],
      "source": [
        "previsao = previsao.detach()"
      ]
    },
    {
      "cell_type": "code",
      "execution_count": 19,
      "metadata": {
        "colab": {
          "base_uri": "https://localhost:8080/",
          "height": 35
        },
        "id": "xkBUV6KghXX9",
        "outputId": "69827110-de30-4432-f8ef-75feb2393c74"
      },
      "outputs": [
        {
          "data": {
            "text/plain": [
              "tensor([[1.]])"
            ]
          },
          "execution_count": 19,
          "metadata": {},
          "output_type": "execute_result"
        }
      ],
      "source": [
        "previsao"
      ]
    },
    {
      "cell_type": "code",
      "execution_count": 20,
      "metadata": {
        "id": "wnJc7h96hd_6"
      },
      "outputs": [],
      "source": [
        "previsao = previsao.numpy()"
      ]
    },
    {
      "cell_type": "code",
      "execution_count": 21,
      "metadata": {
        "colab": {
          "base_uri": "https://localhost:8080/",
          "height": 35
        },
        "id": "ahiBhejchiUt",
        "outputId": "2e6baac4-c8c2-4fc2-ad98-dc17f193e738"
      },
      "outputs": [
        {
          "data": {
            "text/plain": [
              "numpy.ndarray"
            ]
          },
          "execution_count": 21,
          "metadata": {},
          "output_type": "execute_result"
        }
      ],
      "source": [
        "type(previsao)"
      ]
    },
    {
      "cell_type": "code",
      "execution_count": 22,
      "metadata": {
        "colab": {
          "base_uri": "https://localhost:8080/",
          "height": 35
        },
        "id": "6CxG9EOIhk0l",
        "outputId": "9784617f-371e-42a9-e803-a766fea41979"
      },
      "outputs": [
        {
          "data": {
            "text/plain": [
              "array([[1.]], dtype=float32)"
            ]
          },
          "execution_count": 22,
          "metadata": {},
          "output_type": "execute_result"
        }
      ],
      "source": [
        "previsao"
      ]
    },
    {
      "cell_type": "code",
      "execution_count": 23,
      "metadata": {
        "colab": {
          "base_uri": "https://localhost:8080/",
          "height": 35
        },
        "id": "jN9LBKYZhnuy",
        "outputId": "62b44766-219b-4ecd-f3d3-8da07b338bef"
      },
      "outputs": [
        {
          "data": {
            "text/plain": [
              "array([[ True]])"
            ]
          },
          "execution_count": 23,
          "metadata": {},
          "output_type": "execute_result"
        }
      ],
      "source": [
        "previsao = (previsao > 0.5)\n",
        "previsao"
      ]
    },
    {
      "cell_type": "markdown",
      "metadata": {
        "id": "z19bhpjius1H"
      },
      "source": [
        "# Etapa 7: Salvar o classificador"
      ]
    },
    {
      "cell_type": "code",
      "execution_count": 24,
      "metadata": {
        "id": "m1-lxFHAcHsT"
      },
      "outputs": [],
      "source": [
        "# Quando salvar, você precisa chamar classificador.state_dict() (com os parêntese no final),\n",
        "# ao invés de classificador.state_dict"
      ]
    },
    {
      "cell_type": "code",
      "execution_count": 25,
      "metadata": {
        "colab": {
          "base_uri": "https://localhost:8080/",
          "height": 1000
        },
        "id": "5tIub9reh0Vv",
        "outputId": "164c713f-9d3a-4b73-b34d-586f4198cfb3"
      },
      "outputs": [
        {
          "data": {
            "text/plain": [
              "OrderedDict([('dense0.weight',\n",
              "              tensor([[-6.4070e-01, -1.2105e-02, -3.9366e-01, -1.0184e-01,  8.3805e-02,\n",
              "                       -5.0670e-02,  5.2164e-02, -5.6332e-02,  4.0225e-02,  8.9479e-02,\n",
              "                       -1.8339e-02,  2.4520e-03,  7.8185e-04, -1.7233e-02,  2.6877e-02,\n",
              "                        2.3057e-01, -3.7470e-01, -3.0753e-01, -1.0798e-01,  4.3265e-01,\n",
              "                       -4.8195e-01,  2.3206e-02, -3.2733e-01,  1.8466e-01,  3.0953e-02,\n",
              "                        3.9079e-02,  2.1703e-02,  6.3821e-02,  1.7347e-02,  6.6465e-01],\n",
              "                      [ 7.5206e-02,  1.4571e-02,  5.1368e-02, -5.0353e-02,  1.0085e-01,\n",
              "                        3.4654e-02,  7.1073e-02, -1.4861e-03, -3.9469e-02, -3.5528e-02,\n",
              "                        2.8993e-02, -2.2005e-03, -4.1547e-02,  7.9065e-02, -1.4188e-09,\n",
              "                        2.0390e-06,  2.0629e-02, -6.4045e-09, -2.2665e-08,  2.7463e-09,\n",
              "                       -8.1432e-02,  4.5196e-02, -4.9173e-02, -4.8898e-02, -7.0585e-02,\n",
              "                       -2.9724e-02,  8.4303e-02, -4.8629e-02,  6.5262e-02,  3.0273e-02],\n",
              "                      [-6.4536e-02, -1.7563e-01, -4.3938e-01, -9.3271e-02,  1.4605e-01,\n",
              "                        1.0162e-01,  5.7053e-02, -1.1959e-01, -3.1647e-02, -1.0157e-01,\n",
              "                        2.9785e-02,  2.7705e-03,  4.5744e-03, -1.8494e-02,  3.2535e-02,\n",
              "                        6.0684e-02, -2.8218e-01, -1.2268e-01, -1.0114e-01,  3.3497e-01,\n",
              "                       -9.7151e-02,  4.7756e-02, -2.2581e-01,  1.6400e-01, -6.6122e-02,\n",
              "                        1.3877e-02, -1.7981e-02, -9.8639e-03, -1.3239e-02,  6.1199e-01],\n",
              "                      [-2.0128e-01, -3.2003e-01, -1.2995e-01, -8.9210e-02,  6.5634e-02,\n",
              "                        2.7947e-01,  5.0167e-02, -3.3756e-01, -9.6987e-02,  1.2079e-01,\n",
              "                        3.5485e-02, -1.0888e-02, -8.0205e-02, -1.1023e-02, -2.3240e-04,\n",
              "                       -1.6053e-01,  3.5560e-02, -2.5123e-01,  6.4077e-01,  2.4529e-03,\n",
              "                       -2.4173e-01, -2.9509e-01, -7.7652e-02,  1.3851e-01,  1.5881e-02,\n",
              "                       -8.8133e-02, -1.1384e-01,  1.8080e-01, -5.2351e-02,  2.2125e-01],\n",
              "                      [-9.4160e-02,  4.9840e-02, -4.0136e-02,  2.8265e-03, -3.8063e-02,\n",
              "                       -8.7228e-02,  6.4342e-02,  2.1641e-02,  2.6078e-01,  1.0480e-01,\n",
              "                       -9.2772e-03,  9.0831e-03, -1.3538e-01, -1.0040e-01, -2.5411e-07,\n",
              "                       -8.0514e-03,  2.7546e-03, -4.5502e-04, -1.1448e-04, -2.8146e-07,\n",
              "                       -1.8009e-02, -5.4917e-02, -9.0430e-02, -2.3067e-02,  9.7826e-03,\n",
              "                        5.4812e-02,  6.0303e-02,  1.8736e-02,  4.6314e-03, -9.0938e-02],\n",
              "                      [ 6.5761e-02,  8.5541e-02,  3.3057e-02,  3.2337e-02, -8.4338e-03,\n",
              "                       -2.9278e-02, -3.9083e-02,  9.1415e-02,  1.4318e-01,  3.6131e-01,\n",
              "                        1.4108e-02, -5.2512e-02, -1.0217e-01,  5.1989e-02,  3.1813e-04,\n",
              "                        1.0134e-04,  2.7149e-03,  1.4059e-01,  6.9323e-04,  8.2603e-05,\n",
              "                       -7.5615e-03,  8.5919e-03, -5.4770e-03, -5.6237e-02,  9.6673e-03,\n",
              "                        7.2789e-02,  4.7370e-02, -6.4026e-02,  3.5109e-02, -1.3691e-03],\n",
              "                      [-1.4198e-03,  2.4837e-02,  1.2170e-01, -4.7963e-04, -4.4674e-02,\n",
              "                       -5.5625e-02,  3.6330e-02, -2.9489e-02,  4.9979e-01, -2.4464e-01,\n",
              "                       -7.2167e-02,  5.5391e-02, -7.2657e-03, -3.2069e-01,  3.8802e-03,\n",
              "                        3.5408e-01, -2.5021e-02, -3.0806e-03, -9.7880e-03, -1.2101e-01,\n",
              "                        5.4834e-02, -1.0162e-01,  5.3996e-02, -1.2540e-01, -1.5281e-01,\n",
              "                        1.1093e-01, -1.9734e-01, -5.7492e-02, -3.9427e-02, -2.5106e-01],\n",
              "                      [ 4.9666e-02,  2.0196e-01,  3.2697e-01,  4.6596e-02, -1.4771e-01,\n",
              "                       -1.8496e-01,  8.4165e-02,  4.9739e-02,  5.6521e-02,  3.1149e-01,\n",
              "                       -1.2571e-01, -6.7430e-02, -8.4124e-03,  3.6034e-02, -7.2934e-04,\n",
              "                       -4.9454e-02,  6.5487e-02,  2.6886e-01,  4.5472e-01,  7.3775e-04,\n",
              "                        1.3501e-01, -1.3073e-02,  1.6687e-01, -1.3718e-01,  5.6336e-02,\n",
              "                       -2.2637e-02,  2.2168e-03, -4.4634e-02, -5.0528e-02, -1.4932e-01]])),\n",
              "             ('dense0.bias',\n",
              "              tensor([-7.1847e-01, -7.2038e-04, -9.0126e-01, -2.9483e-01,  1.8855e-02,\n",
              "                       2.0086e-01,  1.7292e-01,  4.0049e-01])),\n",
              "             ('dense1.weight',\n",
              "              tensor([[ 1.0031e-01, -3.4238e-02,  1.3515e-01,  9.9236e-02, -2.8767e-02,\n",
              "                       -3.8397e-03, -6.7687e-03, -6.8363e-02],\n",
              "                      [-6.0222e-02, -6.3555e-02, -3.4568e-02, -1.7102e-02, -2.6653e-02,\n",
              "                        5.7078e-02,  1.1243e-01, -1.1465e-01],\n",
              "                      [ 1.2518e-01, -3.7358e-02, -1.5496e-02,  9.8467e-02,  5.2872e-02,\n",
              "                       -9.1385e-02, -2.8085e-02, -3.5347e-02],\n",
              "                      [ 1.1094e-01, -5.2530e-02,  1.0330e-01,  7.2332e-02,  2.4854e-02,\n",
              "                       -1.9782e-02, -1.8559e-02, -3.1674e-02],\n",
              "                      [-5.6277e-02,  2.8846e-02, -3.2758e-02, -3.3111e-02,  6.4431e-02,\n",
              "                        9.6047e-02,  4.4889e-02,  5.7283e-02],\n",
              "                      [-2.8903e-02,  8.1782e-02, -1.9114e-02, -3.1161e-02,  1.8012e-02,\n",
              "                        1.1293e-01,  1.6301e-02,  8.1561e-02],\n",
              "                      [-1.4803e-01,  5.8674e-02, -2.7714e-02,  1.8496e-03, -2.0558e-02,\n",
              "                        1.3717e-01,  6.9531e-02,  1.1388e-01],\n",
              "                      [-4.4791e-02, -6.1779e-03, -2.5873e-02,  9.5862e-03,  5.9860e-05,\n",
              "                        6.1662e-02,  7.0426e-02,  7.3876e-02]])),\n",
              "             ('dense1.bias',\n",
              "              tensor([-0.3042,  0.6186, -0.8736, -0.4727,  0.8788,  0.7984,  0.5255,  0.8110])),\n",
              "             ('dense2.weight',\n",
              "              tensor([[-0.1945,  0.3359, -0.3949, -0.2134,  0.5387,  0.3638,  0.3403,  0.3657]])),\n",
              "             ('dense2.bias', tensor([0.6813]))])"
            ]
          },
          "execution_count": 25,
          "metadata": {},
          "output_type": "execute_result"
        }
      ],
      "source": [
        "classificador.state_dict()"
      ]
    },
    {
      "cell_type": "code",
      "execution_count": 27,
      "metadata": {
        "colab": {
          "base_uri": "https://localhost:8080/",
          "height": 72
        },
        "id": "pR7iIF2hh_V9",
        "outputId": "2cbfc5ab-dc26-4a18-f4e7-c5f96b4732c2"
      },
      "outputs": [],
      "source": [
        "# Para salvar o classificador com a versão 1.5.0 do PyTorch, use o código abaixo\n",
        "\n",
        "torch.save(classificador.state_dict(), 'checkpoint.pth')"
      ]
    }
  ],
  "metadata": {
    "accelerator": "GPU",
    "colab": {
      "include_colab_link": true,
      "provenance": []
    },
    "kernelspec": {
      "display_name": "Python 3",
      "name": "python3"
    },
    "language_info": {
      "codemirror_mode": {
        "name": "ipython",
        "version": 3
      },
      "file_extension": ".py",
      "mimetype": "text/x-python",
      "name": "python",
      "nbconvert_exporter": "python",
      "pygments_lexer": "ipython3",
      "version": "3.7.7"
    }
  },
  "nbformat": 4,
  "nbformat_minor": 0
}
