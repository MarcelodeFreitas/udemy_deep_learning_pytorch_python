{
  "cells": [
    {
      "cell_type": "markdown",
      "metadata": {
        "id": "rD_RSER5Lkb5"
      },
      "source": [
        "# Projeto 1: Classificação binária brest cancer"
      ]
    },
    {
      "cell_type": "markdown",
      "metadata": {
        "id": "5tP2BcEILoLB"
      },
      "source": [
        "## Etapa 1: Importação das bibliotecas"
      ]
    },
    {
      "cell_type": "code",
      "execution_count": 47,
      "metadata": {
        "id": "B1WlABbCcw2B"
      },
      "outputs": [],
      "source": [
        "#load database\n",
        "import pandas as pd\n",
        "#split datbase in train and test\n",
        "from sklearn.model_selection import train_test_split\n",
        "#support for multidimentional arrays and matrices + mathematical funtions\n",
        "import numpy as np\n",
        "#high-level interface for drawing attractive and informative statistical graphics\n",
        "import seaborn as sns\n",
        "#machine learning algorithms\n",
        "from sklearn.metrics import confusion_matrix, accuracy_score"
      ]
    },
    {
      "cell_type": "code",
      "execution_count": 48,
      "metadata": {
        "colab": {
          "base_uri": "https://localhost:8080/",
          "height": 35
        },
        "id": "b85d_o8BdFub",
        "outputId": "454a3f36-a370-4552-8883-00a9867b9aca"
      },
      "outputs": [
        {
          "data": {
            "text/plain": [
              "'1.13.1+cpu'"
            ]
          },
          "execution_count": 48,
          "metadata": {},
          "output_type": "execute_result"
        }
      ],
      "source": [
        "import torch\n",
        "torch.__version__\n",
        "#!pip install torch==1.4.0"
      ]
    },
    {
      "cell_type": "code",
      "execution_count": 49,
      "metadata": {
        "id": "UVO3Mj3qdjru"
      },
      "outputs": [],
      "source": [
        "import torch.nn as nn"
      ]
    },
    {
      "cell_type": "markdown",
      "metadata": {
        "id": "C0SD4dJ4MDMN"
      },
      "source": [
        "## Etapa 2: Base de dados"
      ]
    },
    {
      "cell_type": "code",
      "execution_count": 50,
      "metadata": {
        "colab": {
          "base_uri": "https://localhost:8080/",
          "height": 35
        },
        "id": "i81g-4ADedrN",
        "outputId": "5c393b1e-1f22-4ea0-a24c-d71d8af23a2f"
      },
      "outputs": [
        {
          "data": {
            "text/plain": [
              "<torch._C.Generator at 0x27e27da8110>"
            ]
          },
          "execution_count": 50,
          "metadata": {},
          "output_type": "execute_result"
        }
      ],
      "source": [
        "#defining seeds, ensure reproducibility\n",
        "np.random.seed(123)\n",
        "torch.manual_seed(123)"
      ]
    },
    {
      "cell_type": "code",
      "execution_count": 51,
      "metadata": {
        "id": "PjbIvUYwfBH8"
      },
      "outputs": [],
      "source": [
        "previsores = pd.read_csv('./databases/entradas_breast.csv')\n",
        "classe = pd.read_csv('./databases/saidas_breast.csv')"
      ]
    },
    {
      "cell_type": "code",
      "execution_count": 52,
      "metadata": {
        "colab": {
          "base_uri": "https://localhost:8080/",
          "height": 35
        },
        "id": "yFDDZfZTfOq5",
        "outputId": "5622094f-fec7-4460-caed-5aaf59a2e79f"
      },
      "outputs": [
        {
          "data": {
            "text/plain": [
              "(569, 30)"
            ]
          },
          "execution_count": 52,
          "metadata": {},
          "output_type": "execute_result"
        }
      ],
      "source": [
        "previsores.shape"
      ]
    },
    {
      "cell_type": "code",
      "execution_count": 53,
      "metadata": {
        "colab": {
          "base_uri": "https://localhost:8080/",
          "height": 218
        },
        "id": "rqiQvr3HfUc4",
        "outputId": "c6c00224-a15f-45fc-dda8-68f96bacc43a"
      },
      "outputs": [
        {
          "data": {
            "text/html": [
              "<div>\n",
              "<style scoped>\n",
              "    .dataframe tbody tr th:only-of-type {\n",
              "        vertical-align: middle;\n",
              "    }\n",
              "\n",
              "    .dataframe tbody tr th {\n",
              "        vertical-align: top;\n",
              "    }\n",
              "\n",
              "    .dataframe thead th {\n",
              "        text-align: right;\n",
              "    }\n",
              "</style>\n",
              "<table border=\"1\" class=\"dataframe\">\n",
              "  <thead>\n",
              "    <tr style=\"text-align: right;\">\n",
              "      <th></th>\n",
              "      <th>radius_mean</th>\n",
              "      <th>texture_mean</th>\n",
              "      <th>perimeter_mean</th>\n",
              "      <th>area_mean</th>\n",
              "      <th>smoothness_mean</th>\n",
              "      <th>compactness_mean</th>\n",
              "      <th>concavity_mean</th>\n",
              "      <th>concave_points_mean</th>\n",
              "      <th>symmetry_mean</th>\n",
              "      <th>fractal_dimension_mean</th>\n",
              "      <th>...</th>\n",
              "      <th>radius_worst</th>\n",
              "      <th>texture_worst</th>\n",
              "      <th>perimeter_worst</th>\n",
              "      <th>area_worst</th>\n",
              "      <th>smoothness_worst</th>\n",
              "      <th>compactness_worst</th>\n",
              "      <th>concavity_worst</th>\n",
              "      <th>concave_points_worst</th>\n",
              "      <th>symmetry_worst</th>\n",
              "      <th>fractal_dimension_worst</th>\n",
              "    </tr>\n",
              "  </thead>\n",
              "  <tbody>\n",
              "    <tr>\n",
              "      <th>0</th>\n",
              "      <td>17.99</td>\n",
              "      <td>10.38</td>\n",
              "      <td>122.80</td>\n",
              "      <td>1001.0</td>\n",
              "      <td>0.11840</td>\n",
              "      <td>0.27760</td>\n",
              "      <td>0.3001</td>\n",
              "      <td>0.14710</td>\n",
              "      <td>0.2419</td>\n",
              "      <td>0.07871</td>\n",
              "      <td>...</td>\n",
              "      <td>25.38</td>\n",
              "      <td>17.33</td>\n",
              "      <td>184.60</td>\n",
              "      <td>2019.0</td>\n",
              "      <td>0.1622</td>\n",
              "      <td>0.6656</td>\n",
              "      <td>0.7119</td>\n",
              "      <td>0.2654</td>\n",
              "      <td>0.4601</td>\n",
              "      <td>0.11890</td>\n",
              "    </tr>\n",
              "    <tr>\n",
              "      <th>1</th>\n",
              "      <td>20.57</td>\n",
              "      <td>17.77</td>\n",
              "      <td>132.90</td>\n",
              "      <td>1326.0</td>\n",
              "      <td>0.08474</td>\n",
              "      <td>0.07864</td>\n",
              "      <td>0.0869</td>\n",
              "      <td>0.07017</td>\n",
              "      <td>0.1812</td>\n",
              "      <td>0.05667</td>\n",
              "      <td>...</td>\n",
              "      <td>24.99</td>\n",
              "      <td>23.41</td>\n",
              "      <td>158.80</td>\n",
              "      <td>1956.0</td>\n",
              "      <td>0.1238</td>\n",
              "      <td>0.1866</td>\n",
              "      <td>0.2416</td>\n",
              "      <td>186.0000</td>\n",
              "      <td>275.0000</td>\n",
              "      <td>0.08902</td>\n",
              "    </tr>\n",
              "    <tr>\n",
              "      <th>2</th>\n",
              "      <td>19.69</td>\n",
              "      <td>21.25</td>\n",
              "      <td>130.00</td>\n",
              "      <td>1203.0</td>\n",
              "      <td>0.10960</td>\n",
              "      <td>0.15990</td>\n",
              "      <td>0.1974</td>\n",
              "      <td>0.12790</td>\n",
              "      <td>0.2069</td>\n",
              "      <td>0.05999</td>\n",
              "      <td>...</td>\n",
              "      <td>23.57</td>\n",
              "      <td>25.53</td>\n",
              "      <td>152.50</td>\n",
              "      <td>1709.0</td>\n",
              "      <td>0.1444</td>\n",
              "      <td>0.4245</td>\n",
              "      <td>0.4504</td>\n",
              "      <td>243.0000</td>\n",
              "      <td>0.3613</td>\n",
              "      <td>0.08758</td>\n",
              "    </tr>\n",
              "    <tr>\n",
              "      <th>3</th>\n",
              "      <td>11.42</td>\n",
              "      <td>20.38</td>\n",
              "      <td>77.58</td>\n",
              "      <td>386.1</td>\n",
              "      <td>0.14250</td>\n",
              "      <td>0.28390</td>\n",
              "      <td>0.2414</td>\n",
              "      <td>0.10520</td>\n",
              "      <td>0.2597</td>\n",
              "      <td>0.09744</td>\n",
              "      <td>...</td>\n",
              "      <td>14.91</td>\n",
              "      <td>26.50</td>\n",
              "      <td>98.87</td>\n",
              "      <td>567.7</td>\n",
              "      <td>0.2098</td>\n",
              "      <td>0.8663</td>\n",
              "      <td>0.6869</td>\n",
              "      <td>0.2575</td>\n",
              "      <td>0.6638</td>\n",
              "      <td>173.00000</td>\n",
              "    </tr>\n",
              "    <tr>\n",
              "      <th>4</th>\n",
              "      <td>20.29</td>\n",
              "      <td>14.34</td>\n",
              "      <td>135.10</td>\n",
              "      <td>1297.0</td>\n",
              "      <td>0.10030</td>\n",
              "      <td>0.13280</td>\n",
              "      <td>198.0000</td>\n",
              "      <td>0.10430</td>\n",
              "      <td>0.1809</td>\n",
              "      <td>0.05883</td>\n",
              "      <td>...</td>\n",
              "      <td>22.54</td>\n",
              "      <td>16.67</td>\n",
              "      <td>152.20</td>\n",
              "      <td>1575.0</td>\n",
              "      <td>0.1374</td>\n",
              "      <td>205.0000</td>\n",
              "      <td>0.4000</td>\n",
              "      <td>0.1625</td>\n",
              "      <td>0.2364</td>\n",
              "      <td>0.07678</td>\n",
              "    </tr>\n",
              "  </tbody>\n",
              "</table>\n",
              "<p>5 rows × 30 columns</p>\n",
              "</div>"
            ],
            "text/plain": [
              "    radius_mean   texture_mean   perimeter_mean   area_mean   smoothness_mean  \\\n",
              "0         17.99          10.38           122.80      1001.0           0.11840   \n",
              "1         20.57          17.77           132.90      1326.0           0.08474   \n",
              "2         19.69          21.25           130.00      1203.0           0.10960   \n",
              "3         11.42          20.38            77.58       386.1           0.14250   \n",
              "4         20.29          14.34           135.10      1297.0           0.10030   \n",
              "\n",
              "    compactness_mean   concavity_mean  concave_points_mean   symmetry_mean  \\\n",
              "0            0.27760           0.3001              0.14710          0.2419   \n",
              "1            0.07864           0.0869              0.07017          0.1812   \n",
              "2            0.15990           0.1974              0.12790          0.2069   \n",
              "3            0.28390           0.2414              0.10520          0.2597   \n",
              "4            0.13280         198.0000              0.10430          0.1809   \n",
              "\n",
              "    fractal_dimension_mean  ...   radius_worst   texture_worst  \\\n",
              "0                  0.07871  ...          25.38           17.33   \n",
              "1                  0.05667  ...          24.99           23.41   \n",
              "2                  0.05999  ...          23.57           25.53   \n",
              "3                  0.09744  ...          14.91           26.50   \n",
              "4                  0.05883  ...          22.54           16.67   \n",
              "\n",
              "    perimeter_worst   area_worst   smoothness_worst   compactness_worst  \\\n",
              "0            184.60       2019.0             0.1622              0.6656   \n",
              "1            158.80       1956.0             0.1238              0.1866   \n",
              "2            152.50       1709.0             0.1444              0.4245   \n",
              "3             98.87        567.7             0.2098              0.8663   \n",
              "4            152.20       1575.0             0.1374            205.0000   \n",
              "\n",
              "    concavity_worst   concave_points_worst   symmetry_worst  \\\n",
              "0            0.7119                 0.2654           0.4601   \n",
              "1            0.2416               186.0000         275.0000   \n",
              "2            0.4504               243.0000           0.3613   \n",
              "3            0.6869                 0.2575           0.6638   \n",
              "4            0.4000                 0.1625           0.2364   \n",
              "\n",
              "    fractal_dimension_worst  \n",
              "0                   0.11890  \n",
              "1                   0.08902  \n",
              "2                   0.08758  \n",
              "3                 173.00000  \n",
              "4                   0.07678  \n",
              "\n",
              "[5 rows x 30 columns]"
            ]
          },
          "execution_count": 53,
          "metadata": {},
          "output_type": "execute_result"
        }
      ],
      "source": [
        "#5 first rows\n",
        "previsores.head()"
      ]
    },
    {
      "cell_type": "code",
      "execution_count": 54,
      "metadata": {
        "colab": {
          "base_uri": "https://localhost:8080/",
          "height": 198
        },
        "id": "kKqSDj3bfdQB",
        "outputId": "8bc0596c-e2b5-4a90-9c43-de49542dd331"
      },
      "outputs": [
        {
          "data": {
            "text/html": [
              "<div>\n",
              "<style scoped>\n",
              "    .dataframe tbody tr th:only-of-type {\n",
              "        vertical-align: middle;\n",
              "    }\n",
              "\n",
              "    .dataframe tbody tr th {\n",
              "        vertical-align: top;\n",
              "    }\n",
              "\n",
              "    .dataframe thead th {\n",
              "        text-align: right;\n",
              "    }\n",
              "</style>\n",
              "<table border=\"1\" class=\"dataframe\">\n",
              "  <thead>\n",
              "    <tr style=\"text-align: right;\">\n",
              "      <th></th>\n",
              "      <th>0</th>\n",
              "    </tr>\n",
              "  </thead>\n",
              "  <tbody>\n",
              "    <tr>\n",
              "      <th>0</th>\n",
              "      <td>0</td>\n",
              "    </tr>\n",
              "    <tr>\n",
              "      <th>1</th>\n",
              "      <td>0</td>\n",
              "    </tr>\n",
              "    <tr>\n",
              "      <th>2</th>\n",
              "      <td>0</td>\n",
              "    </tr>\n",
              "    <tr>\n",
              "      <th>3</th>\n",
              "      <td>0</td>\n",
              "    </tr>\n",
              "    <tr>\n",
              "      <th>4</th>\n",
              "      <td>0</td>\n",
              "    </tr>\n",
              "  </tbody>\n",
              "</table>\n",
              "</div>"
            ],
            "text/plain": [
              "   0\n",
              "0  0\n",
              "1  0\n",
              "2  0\n",
              "3  0\n",
              "4  0"
            ]
          },
          "execution_count": 54,
          "metadata": {},
          "output_type": "execute_result"
        }
      ],
      "source": [
        "classe.head()"
      ]
    },
    {
      "cell_type": "code",
      "execution_count": 55,
      "metadata": {
        "colab": {
          "base_uri": "https://localhost:8080/",
          "height": 35
        },
        "id": "-jSqJh18fhL1",
        "outputId": "ade8bf7e-a224-41ee-8b0f-e68c2631ab4f"
      },
      "outputs": [
        {
          "data": {
            "text/plain": [
              "array([0, 1], dtype=int64)"
            ]
          },
          "execution_count": 55,
          "metadata": {},
          "output_type": "execute_result"
        }
      ],
      "source": [
        "np.unique(classe)"
      ]
    },
    {
      "cell_type": "code",
      "execution_count": 93,
      "metadata": {
        "colab": {
          "base_uri": "https://localhost:8080/",
          "height": 279
        },
        "id": "aKLO9jX0fs-3",
        "outputId": "2bae8ac5-dc76-4b50-dd84-8f211c241c4d"
      },
      "outputs": [
        {
          "data": {
            "image/png": "[encoded data removed]",
            "text/plain": [
              "<Figure size 640x480 with 1 Axes>"
            ]
          },
          "metadata": {},
          "output_type": "display_data"
        }
      ],
      "source": [
        "sns.countplot(classe, x=\"0\");"
      ]
    },
    {
      "cell_type": "code",
      "execution_count": 57,
      "metadata": {
        "id": "UX9ZDhUMgBsv"
      },
      "outputs": [],
      "source": [
        "previsores_treinamento, previsores_teste, classe_treinamento, classe_teste = train_test_split(previsores,\n",
        "                                                                                              classe,\n",
        "                                                                                              test_size = 0.25)"
      ]
    },
    {
      "cell_type": "code",
      "execution_count": 58,
      "metadata": {
        "colab": {
          "base_uri": "https://localhost:8080/",
          "height": 35
        },
        "id": "7SEVQyX9gR4O",
        "outputId": "e17fe638-2fe2-4bf9-a153-387890b02a80"
      },
      "outputs": [
        {
          "data": {
            "text/plain": [
              "(426, 30)"
            ]
          },
          "execution_count": 58,
          "metadata": {},
          "output_type": "execute_result"
        }
      ],
      "source": [
        "previsores_treinamento.shape"
      ]
    },
    {
      "cell_type": "code",
      "execution_count": 59,
      "metadata": {
        "colab": {
          "base_uri": "https://localhost:8080/",
          "height": 35
        },
        "id": "ZA6wrOMygUmg",
        "outputId": "c7b32dc3-aa6f-4657-b852-d227f5253807"
      },
      "outputs": [
        {
          "data": {
            "text/plain": [
              "(426, 1)"
            ]
          },
          "execution_count": 59,
          "metadata": {},
          "output_type": "execute_result"
        }
      ],
      "source": [
        "classe_treinamento.shape"
      ]
    },
    {
      "cell_type": "code",
      "execution_count": 60,
      "metadata": {
        "colab": {
          "base_uri": "https://localhost:8080/",
          "height": 35
        },
        "id": "SKyN_plmgZzH",
        "outputId": "9731a0e6-f5d9-46ed-ff82-65dfeb6dd14f"
      },
      "outputs": [
        {
          "data": {
            "text/plain": [
              "(143, 30)"
            ]
          },
          "execution_count": 60,
          "metadata": {},
          "output_type": "execute_result"
        }
      ],
      "source": [
        "previsores_teste.shape"
      ]
    },
    {
      "cell_type": "code",
      "execution_count": 61,
      "metadata": {
        "colab": {
          "base_uri": "https://localhost:8080/",
          "height": 35
        },
        "id": "wN_AXcfggdWC",
        "outputId": "003c4608-cf51-4bfe-f500-ea62d3dace01"
      },
      "outputs": [
        {
          "data": {
            "text/plain": [
              "(143, 1)"
            ]
          },
          "execution_count": 61,
          "metadata": {},
          "output_type": "execute_result"
        }
      ],
      "source": [
        "classe_teste.shape"
      ]
    },
    {
      "cell_type": "markdown",
      "metadata": {
        "id": "72uvlxJrOuWd"
      },
      "source": [
        "## Etapa 3: Transformação dos dados para tensores\n"
      ]
    },
    {
      "cell_type": "code",
      "execution_count": 62,
      "metadata": {
        "colab": {
          "base_uri": "https://localhost:8080/",
          "height": 35
        },
        "id": "nk5Gjgb7hBCo",
        "outputId": "3052a57a-3128-40df-e6ab-7afdd7600040"
      },
      "outputs": [
        {
          "data": {
            "text/plain": [
              "pandas.core.frame.DataFrame"
            ]
          },
          "execution_count": 62,
          "metadata": {},
          "output_type": "execute_result"
        }
      ],
      "source": [
        "type(previsores_treinamento)"
      ]
    },
    {
      "cell_type": "code",
      "execution_count": 63,
      "metadata": {
        "colab": {
          "base_uri": "https://localhost:8080/",
          "height": 35
        },
        "id": "aIzWASyMhMmy",
        "outputId": "e804d0cf-4d26-47e8-8604-80c9fb18967d"
      },
      "outputs": [
        {
          "data": {
            "text/plain": [
              "numpy.ndarray"
            ]
          },
          "execution_count": 63,
          "metadata": {},
          "output_type": "execute_result"
        }
      ],
      "source": [
        "type(np.array(previsores_treinamento))"
      ]
    },
    {
      "cell_type": "code",
      "execution_count": 64,
      "metadata": {
        "id": "hqPER9AYhTpt"
      },
      "outputs": [],
      "source": [
        "#transform dataframe into numpy array\n",
        "previsores_treinamento = torch.tensor(np.array(previsores_treinamento), dtype=torch.float)\n",
        "#transform numpy array into tensor\n",
        "classe_treinamento = torch.tensor(np.array(classe_treinamento), dtype = torch.float)"
      ]
    },
    {
      "cell_type": "code",
      "execution_count": 65,
      "metadata": {
        "colab": {
          "base_uri": "https://localhost:8080/",
          "height": 35
        },
        "id": "u-2HrvEJh5Km",
        "outputId": "555eaae3-a9af-4e5d-902c-1d9f6a65b488"
      },
      "outputs": [
        {
          "data": {
            "text/plain": [
              "torch.Tensor"
            ]
          },
          "execution_count": 65,
          "metadata": {},
          "output_type": "execute_result"
        }
      ],
      "source": [
        "type(previsores_treinamento)"
      ]
    },
    {
      "cell_type": "code",
      "execution_count": 66,
      "metadata": {
        "colab": {
          "base_uri": "https://localhost:8080/",
          "height": 35
        },
        "id": "lqL8ypLSh79u",
        "outputId": "3a0f3c1d-54aa-4357-a469-8a42f44c6a0f"
      },
      "outputs": [
        {
          "data": {
            "text/plain": [
              "torch.Tensor"
            ]
          },
          "execution_count": 66,
          "metadata": {},
          "output_type": "execute_result"
        }
      ],
      "source": [
        "type(classe_treinamento)"
      ]
    },
    {
      "cell_type": "code",
      "execution_count": 67,
      "metadata": {
        "id": "__6a-iZhiJVI"
      },
      "outputs": [],
      "source": [
        "dataset = torch.utils.data.TensorDataset(previsores_treinamento, classe_treinamento)"
      ]
    },
    {
      "cell_type": "code",
      "execution_count": 68,
      "metadata": {
        "colab": {
          "base_uri": "https://localhost:8080/",
          "height": 35
        },
        "id": "t0sP_kvViZJl",
        "outputId": "92b278f4-800f-40fc-e10f-0a7194254b2b"
      },
      "outputs": [
        {
          "data": {
            "text/plain": [
              "torch.utils.data.dataset.TensorDataset"
            ]
          },
          "execution_count": 68,
          "metadata": {},
          "output_type": "execute_result"
        }
      ],
      "source": [
        "type(dataset)"
      ]
    },
    {
      "cell_type": "code",
      "execution_count": 69,
      "metadata": {
        "id": "5dIWzA4wihKD"
      },
      "outputs": [],
      "source": [
        "train_loader = torch.utils.data.DataLoader(dataset, batch_size=10, shuffle=True)\n",
        "#10 in 10 to update weights"
      ]
    },
    {
      "cell_type": "markdown",
      "metadata": {
        "id": "QGDLesyDQpIb"
      },
      "source": [
        "## Etapa 4: Construção do modelo"
      ]
    },
    {
      "cell_type": "code",
      "execution_count": 70,
      "metadata": {
        "id": "1FAFgY56jmdG"
      },
      "outputs": [],
      "source": [
        "# 30 -> 16 -> 16 -> 1\n",
        "# first layer 30 -> same as the number of features\n",
        "# 2 hidden layers with 16 neurons\n",
        "# exit layer 1 neuron in this case since it is a binary classification\n",
        "# (entradas + saida) / 2 = (30 + 1) / 2 = 16\n",
        "# nn -> neural network\n",
        "# sequential -> each layer is defined in a sequential order\n",
        "classificador = nn.Sequential(\n",
        "    nn.Linear(in_features=30, out_features=16), #linear means all the neurons from the first layer connet to all the neurons from the first hidden layer 16\n",
        "    nn.ReLU(), #relu function will be aplied to the 16 neurons\n",
        "    nn.Linear(16, 16),\n",
        "    nn.ReLU(),\n",
        "    nn.Linear(16, 1),\n",
        "    nn.Sigmoid() #activation function, sgmoid for a probabilit between 0 and 1\n",
        ")"
      ]
    },
    {
      "cell_type": "code",
      "execution_count": 71,
      "metadata": {
        "colab": {
          "base_uri": "https://localhost:8080/",
          "height": 155
        },
        "id": "ixwI_mhZlDVW",
        "outputId": "7208d62e-a589-42f4-c073-8eb3178b7fd1"
      },
      "outputs": [
        {
          "data": {
            "text/plain": [
              "<bound method Module.parameters of Sequential(\n",
              "  (0): Linear(in_features=30, out_features=16, bias=True)\n",
              "  (1): ReLU()\n",
              "  (2): Linear(in_features=16, out_features=16, bias=True)\n",
              "  (3): ReLU()\n",
              "  (4): Linear(in_features=16, out_features=1, bias=True)\n",
              "  (5): Sigmoid()\n",
              ")>"
            ]
          },
          "execution_count": 71,
          "metadata": {},
          "output_type": "execute_result"
        }
      ],
      "source": [
        "#neural network structure\n",
        "classificador.parameters"
      ]
    },
    {
      "cell_type": "code",
      "execution_count": 72,
      "metadata": {
        "id": "--bNcvlplMh9"
      },
      "outputs": [],
      "source": [
        "#defining the loss function\n",
        "criterion = nn.BCELoss()"
      ]
    },
    {
      "cell_type": "code",
      "execution_count": 73,
      "metadata": {
        "id": "Um6Tr3s_lXHK"
      },
      "outputs": [],
      "source": [
        "#defining the optimizer\n",
        "#lr - learning rate\n",
        "#weight decay - after x epochs lowers learning rate, helps getting clodser to the gradient\n",
        "#the lr will be multiplied by the weight decay that will help the algorithm react a global minimum\n",
        "optimizer = torch.optim.Adam(classificador.parameters(), lr=0.001, weight_decay=0.0001)"
      ]
    },
    {
      "cell_type": "markdown",
      "metadata": {
        "id": "appMwDHtRTN5"
      },
      "source": [
        "## Etapa 5: Treinamento do modelo"
      ]
    },
    {
      "cell_type": "code",
      "execution_count": 74,
      "metadata": {
        "colab": {
          "base_uri": "https://localhost:8080/",
          "height": 1000
        },
        "id": "exieZFSam_eI",
        "outputId": "df1c5c39-0795-4b42-a4dd-5fbfcd775222"
      },
      "outputs": [
        {
          "name": "stdout",
          "output_type": "stream",
          "text": [
            "Época   1: perda 10.78337\n",
            "Época   2: perda 2.84859\n",
            "Época   3: perda 1.67479\n",
            "Época   4: perda 1.11414\n",
            "Época   5: perda 0.63996\n",
            "Época   6: perda 0.63753\n",
            "Época   7: perda 0.58066\n",
            "Época   8: perda 0.55460\n",
            "Época   9: perda 0.55617\n",
            "Época  10: perda 0.53322\n",
            "Época  11: perda 0.55797\n",
            "Época  12: perda 0.53816\n",
            "Época  13: perda 0.52938\n",
            "Época  14: perda 0.33227\n",
            "Época  15: perda 0.51360\n",
            "Época  16: perda 0.35532\n",
            "Época  17: perda 0.49602\n",
            "Época  18: perda 0.33208\n",
            "Época  19: perda 0.29349\n",
            "Época  20: perda 0.25046\n",
            "Época  21: perda 0.29527\n",
            "Época  22: perda 0.49888\n",
            "Época  23: perda 0.47241\n",
            "Época  24: perda 0.45883\n",
            "Época  25: perda 0.27544\n",
            "Época  26: perda 0.23399\n",
            "Época  27: perda 0.26373\n",
            "Época  28: perda 0.24136\n",
            "Época  29: perda 0.28275\n",
            "Época  30: perda 0.22670\n",
            "Época  31: perda 0.19300\n",
            "Época  32: perda 0.22247\n",
            "Época  33: perda 0.20294\n",
            "Época  34: perda 0.20900\n",
            "Época  35: perda 0.20250\n",
            "Época  36: perda 0.20269\n",
            "Época  37: perda 0.18850\n",
            "Época  38: perda 0.22386\n",
            "Época  39: perda 0.22918\n",
            "Época  40: perda 0.20068\n",
            "Época  41: perda 0.18630\n",
            "Época  42: perda 0.17896\n",
            "Época  43: perda 0.17075\n",
            "Época  44: perda 0.16809\n",
            "Época  45: perda 0.18589\n",
            "Época  46: perda 0.20943\n",
            "Época  47: perda 0.17474\n",
            "Época  48: perda 0.23269\n",
            "Época  49: perda 0.18480\n",
            "Época  50: perda 0.15982\n",
            "Época  51: perda 0.16683\n",
            "Época  52: perda 0.17472\n",
            "Época  53: perda 0.17108\n",
            "Época  54: perda 0.17866\n",
            "Época  55: perda 0.19239\n",
            "Época  56: perda 0.22096\n",
            "Época  57: perda 0.19898\n",
            "Época  58: perda 0.19105\n",
            "Época  59: perda 0.14185\n",
            "Época  60: perda 0.15667\n",
            "Época  61: perda 0.16414\n",
            "Época  62: perda 0.15201\n",
            "Época  63: perda 0.13767\n",
            "Época  64: perda 0.14979\n",
            "Época  65: perda 0.15951\n",
            "Época  66: perda 0.24016\n",
            "Época  67: perda 0.15982\n",
            "Época  68: perda 0.14614\n",
            "Época  69: perda 0.14855\n",
            "Época  70: perda 0.16408\n",
            "Época  71: perda 0.14189\n",
            "Época  72: perda 0.16291\n",
            "Época  73: perda 0.12452\n",
            "Época  74: perda 0.13970\n",
            "Época  75: perda 0.14282\n",
            "Época  76: perda 0.13050\n",
            "Época  77: perda 0.12366\n",
            "Época  78: perda 0.14825\n",
            "Época  79: perda 0.21507\n",
            "Época  80: perda 0.20203\n",
            "Época  81: perda 0.23469\n",
            "Época  82: perda 0.17315\n",
            "Época  83: perda 0.12235\n",
            "Época  84: perda 0.12801\n",
            "Época  85: perda 0.12391\n",
            "Época  86: perda 0.12617\n",
            "Época  87: perda 0.15495\n",
            "Época  88: perda 0.12228\n",
            "Época  89: perda 0.15672\n",
            "Época  90: perda 0.12975\n",
            "Época  91: perda 0.16111\n",
            "Época  92: perda 0.14349\n",
            "Época  93: perda 0.10269\n",
            "Época  94: perda 0.13341\n",
            "Época  95: perda 0.11104\n",
            "Época  96: perda 0.12443\n",
            "Época  97: perda 0.13025\n",
            "Época  98: perda 0.12410\n",
            "Época  99: perda 0.13988\n",
            "Época 100: perda 0.13601\n"
          ]
        }
      ],
      "source": [
        "#range(100) the weigths will be updated 100 times\n",
        "#426 entries, batch size 10, about 43 weight updates in each epoch\n",
        "for epoch in range(100):\n",
        "  #variable accumulate error\n",
        "  running_loss = 0.\n",
        "\n",
        "  for data in train_loader:\n",
        "    inputs, labels = data\n",
        "    #print(inputs)\n",
        "    #print('-----')\n",
        "    #print(labels)\n",
        "    optimizer.zero_grad()\n",
        "\n",
        "    outputs = classificador(inputs) # classificador.forward(inputs)\n",
        "    #print(outputs)\n",
        "    #loss -> compare the outputs with the labels\n",
        "    loss = criterion(outputs, labels)\n",
        "    #print(loss)\n",
        "    #backpropagation\n",
        "    loss.backward()\n",
        "    #adam optimizing weights\n",
        "    optimizer.step()\n",
        "\n",
        "    running_loss += loss.item()\n",
        "  print('Época %3d: perda %.5f' % (epoch+1, running_loss/len(train_loader)))"
      ]
    },
    {
      "cell_type": "markdown",
      "metadata": {
        "id": "ITUtUdQNSJcs"
      },
      "source": [
        "## Etapa 6: Visualização dos pesos"
      ]
    },
    {
      "cell_type": "code",
      "execution_count": 75,
      "metadata": {
        "id": "p0E2vbaGreGc"
      },
      "outputs": [],
      "source": [
        "# 30 -> 16 -> 16 -> 1\n",
        "params = list(classificador.parameters())"
      ]
    },
    {
      "cell_type": "code",
      "execution_count": 76,
      "metadata": {
        "colab": {
          "base_uri": "https://localhost:8080/",
          "height": 1000
        },
        "id": "y2sFTNaMroyw",
        "outputId": "97322664-0fde-4032-efaa-026e716084fa"
      },
      "outputs": [
        {
          "data": {
            "text/plain": [
              "[Parameter containing:\n",
              " tensor([[-6.9537e-02, -7.6251e-02, -1.7509e-01,  5.4204e-02, -1.5442e-01,\n",
              "           1.0065e-01, -1.3578e-01, -1.2356e-01, -2.2725e-01,  1.9374e-01,\n",
              "          -3.4267e-02,  5.8904e-02, -1.2563e-01, -8.7217e-02, -3.5901e-04,\n",
              "          -2.2019e-01, -3.9123e-01, -1.2445e-02,  1.3856e-01,  2.4448e-03,\n",
              "           1.4020e-01, -4.8890e-02, -3.3449e-02,  1.4495e-01,  4.9342e-01,\n",
              "           1.2753e-01, -1.8688e-01,  3.9847e-02,  2.8978e-01,  4.1387e-02],\n",
              "         [ 1.9539e-01,  2.0192e-01,  2.8234e-01,  9.1706e-02, -1.3019e-01,\n",
              "          -7.7657e-02, -4.8287e-02, -1.3043e-01, -4.6018e-02,  2.6494e-01,\n",
              "          -5.9741e-02, -9.3107e-02, -2.0819e-03,  1.8033e-01, -5.0927e-03,\n",
              "          -9.2861e-02, -1.1140e-02,  1.9047e-01,  1.0000e-01, -1.4144e-02,\n",
              "           9.8384e-02,  5.3950e-02,  1.8551e-01,  4.1831e-04, -1.6448e-02,\n",
              "          -2.3621e-01, -1.6503e-01, -8.6718e-03, -6.3805e-02, -1.6640e-01],\n",
              "         [-1.2157e-02, -4.5317e-02, -2.4382e-01, -1.0570e-01, -9.9634e-03,\n",
              "           5.0544e-02,  3.2754e-02,  1.6623e-02, -9.7602e-02,  2.8518e-01,\n",
              "           1.6180e-01,  9.3185e-02, -1.1620e-01, -3.4289e-03, -1.1539e-03,\n",
              "          -2.4636e-01,  2.8207e-02,  8.7694e-04,  3.4154e-01, -4.5140e-04,\n",
              "           3.7205e-02, -1.8139e-01, -7.6016e-02, -1.0258e-03, -2.6413e-01,\n",
              "          -1.2432e-01, -1.7695e-01,  9.8322e-02,  2.3275e-02, -9.0592e-03],\n",
              "         [-3.7208e-01,  4.1547e-02, -1.5304e-01,  8.8715e-02, -1.8680e-01,\n",
              "          -1.8333e-02,  7.1596e-03,  4.2689e-02,  1.3150e-01, -2.2073e-01,\n",
              "           1.9073e-01, -1.5305e-01,  3.6852e-02,  1.2990e-02, -3.6266e-04,\n",
              "           5.1183e-02,  2.2570e-02, -8.2687e-03,  1.4464e-01,  4.8479e-03,\n",
              "           5.8626e-02, -1.5630e-01, -7.5106e-02,  1.5170e-02,  2.4111e-01,\n",
              "           8.4098e-02,  2.4124e-02,  2.4312e-01,  1.1355e-01,  3.9679e-01],\n",
              "         [-4.3357e-01, -3.9462e-02, -1.3677e-01, -1.3401e-01,  3.7850e-01,\n",
              "           3.4363e-02,  1.1986e-01, -3.1987e-01, -3.0203e-01,  2.3847e-01,\n",
              "          -1.8979e-01,  2.6087e-02, -1.5674e-02,  6.5712e-02,  4.2756e-02,\n",
              "          -3.1816e-01, -3.0037e-01, -2.2399e-01,  3.4493e-01,  2.3942e-01,\n",
              "          -2.9464e-01, -9.4262e-03, -1.6922e-01,  2.4669e-01, -3.4302e-03,\n",
              "          -8.0764e-02, -4.2520e-01, -1.0965e-01, -2.3407e-03,  5.0446e-01],\n",
              "         [ 2.8404e-02, -1.4107e-02,  1.1102e-01,  1.0879e-01,  5.5796e-02,\n",
              "           4.2099e-01, -7.5994e-02,  3.1389e-01,  2.0983e-01, -9.6094e-02,\n",
              "           1.4318e-01,  1.5400e-01, -1.0834e-01,  1.3934e-01, -1.8004e-03,\n",
              "           3.2087e-01,  1.8999e-01,  1.0694e-01, -2.6697e-01, -8.8991e-02,\n",
              "           2.8595e-02, -1.7895e-01,  3.7859e-02, -2.1833e-02, -1.9340e-01,\n",
              "          -1.1177e-02, -7.0179e-02,  2.5824e-01,  7.3466e-02, -2.5215e-01],\n",
              "         [-4.5899e-03,  2.5723e-02,  3.0429e-01, -1.1577e-01, -2.2323e-01,\n",
              "          -5.3055e-01, -2.8124e-02, -2.6426e-02,  2.2736e-01,  2.4246e-02,\n",
              "          -1.0645e-01, -2.4698e-01,  6.0224e-02,  5.4536e-02, -1.3672e-03,\n",
              "          -2.3603e-02,  7.6553e-02, -6.2570e-03,  2.9065e-01, -5.3652e-03,\n",
              "           1.2864e-02, -6.5811e-02,  2.0337e-01, -9.6635e-02, -2.8902e-01,\n",
              "           1.2236e-01,  1.9427e-01, -2.0618e-01, -2.5784e-01,  5.2674e-02],\n",
              "         [-2.8814e-01, -1.1936e-02, -1.3632e-01, -1.7103e-01,  3.4398e-01,\n",
              "          -2.3001e-02,  5.1845e-03, -1.8859e-02, -5.0937e-02, -4.9122e-02,\n",
              "          -8.5479e-02, -1.1210e-01,  6.9473e-02,  1.0536e-01,  3.5077e-03,\n",
              "           2.0951e-02, -1.0831e-01,  1.3315e-02, -2.7941e-01,  8.1686e-03,\n",
              "          -2.1089e-01,  8.5634e-02, -2.9390e-01,  9.4985e-02, -4.6387e-02,\n",
              "          -2.9478e-01,  4.1883e-02,  1.1845e-01, -3.1749e-02,  5.3517e-02],\n",
              "         [ 8.5973e-02, -1.5864e-01, -3.8438e-01, -3.9313e-02,  3.7651e-01,\n",
              "           1.2726e-01, -4.0954e-01, -1.0380e-01,  1.1364e-01,  2.0713e-01,\n",
              "           1.7097e-01, -3.0458e-02,  1.1033e-01,  3.7491e-02,  7.6883e-03,\n",
              "          -1.3592e-01,  4.1649e-03, -2.6945e-01,  4.1645e-01, -2.4793e-02,\n",
              "          -2.5158e-01, -4.8356e-02, -2.9716e-01,  2.0864e-01, -5.2920e-02,\n",
              "           1.9009e-01, -7.5869e-02,  1.9982e-01,  1.0361e-01,  2.7149e-01],\n",
              "         [-2.5574e-02,  1.4385e-01,  2.8989e-01,  1.6649e-02, -3.2659e-01,\n",
              "          -1.4918e-01, -8.5333e-02,  1.6691e-01,  4.5100e-02,  1.0509e-01,\n",
              "           1.1071e-01, -1.7552e-01,  1.5138e-01, -1.7264e-01, -8.7220e-03,\n",
              "           2.8647e-02,  1.6278e-01,  1.2109e-01,  1.3263e-01, -2.0531e-01,\n",
              "           1.8701e-01, -1.4560e-01,  3.1272e-01, -7.4984e-02,  1.3513e-01,\n",
              "           4.5559e-03, -7.5659e-03, -9.7024e-02,  8.9418e-02, -1.4925e-01],\n",
              "         [-1.3947e-01, -4.5819e-02,  4.1106e-02,  1.9231e-02, -4.9399e-02,\n",
              "          -1.0014e-01, -1.3327e-01, -1.2580e-01,  2.6688e-01,  4.5126e-02,\n",
              "          -1.2524e-01,  5.0679e-02, -1.1162e-01,  2.3974e-01, -3.0105e-03,\n",
              "          -7.1421e-02, -7.2132e-02, -3.3844e-01, -1.5641e-01,  1.5949e-03,\n",
              "          -2.0297e-01, -9.3920e-02,  4.8712e-02,  1.2287e-01,  2.9328e-01,\n",
              "          -1.6325e-01,  3.2059e-01,  2.2422e-01, -1.3585e-01, -2.7697e-02],\n",
              "         [ 6.8920e-02, -6.9314e-03,  1.3242e-01,  1.4913e-01, -5.7865e-02,\n",
              "           2.2269e-01, -1.3074e-01,  2.5067e-01,  1.9640e-01, -1.0274e-01,\n",
              "           1.4753e-02,  8.7765e-02, -1.5469e-02, -3.2735e-01, -1.5268e-02,\n",
              "           3.4772e-01,  2.7749e-03,  3.3015e-01, -2.3611e-01, -1.9761e-01,\n",
              "           2.0629e-01, -4.1265e-02,  3.0519e-01, -1.3225e-01, -2.2216e-01,\n",
              "           1.9389e-01,  3.7359e-02,  7.9449e-02,  1.2713e-01, -4.6492e-01],\n",
              "         [ 1.1813e-01,  5.6344e-02, -2.5749e-01, -5.5530e-02,  1.4007e-01,\n",
              "           2.0926e-01,  2.5149e-01,  4.7492e-02, -7.5797e-02, -2.5795e-01,\n",
              "           1.2910e-01, -4.0053e-02,  1.0827e-01,  7.1895e-02, -4.1414e-03,\n",
              "          -5.1035e-02,  3.8708e-03,  2.2812e-02, -2.8202e-01,  1.6070e-01,\n",
              "           6.1531e-02,  1.4741e-01, -2.6971e-02,  4.3637e-02, -4.1293e-02,\n",
              "           1.2581e-01, -9.8662e-04, -2.5549e-01,  8.5642e-02,  1.1677e-01],\n",
              "         [ 8.9813e-02, -1.1062e-01, -1.0879e-01,  1.4312e-02,  6.2214e-02,\n",
              "           4.7760e-03, -1.2587e-01,  6.7915e-02, -4.6284e-02, -1.8729e-01,\n",
              "           1.7709e-01, -1.1360e-01, -1.6870e-01,  1.4722e-01,  2.9263e-03,\n",
              "           1.0901e-02,  1.5890e-01, -1.0866e-01,  3.4335e-01,  3.7819e-03,\n",
              "           1.2217e-01, -3.0380e-02, -8.9205e-02,  1.4773e-01, -2.6031e-02,\n",
              "          -2.0584e-01, -6.6943e-02,  9.8351e-02,  1.1043e-01,  2.4176e-02],\n",
              "         [ 5.7721e-02, -2.3592e-02,  4.5249e-02, -1.2951e-01, -1.8510e-16,\n",
              "          -6.3558e-13,  7.4083e-11, -9.6452e-40, -2.5953e-02,  2.1831e-23,\n",
              "          -6.8755e-05, -2.1425e-02, -2.5864e-02, -3.5407e-02,  2.4080e-39,\n",
              "           1.5248e-39, -1.5475e-02, -1.1091e-39,  2.1476e-39, -2.8391e-40,\n",
              "           7.1263e-02,  8.6059e-02, -1.0550e-01, -1.7020e-01, -8.6335e-13,\n",
              "          -7.4117e-04,  2.7547e-06, -2.9729e-20, -1.4382e-06, -4.0465e-18],\n",
              "         [ 1.3325e-39,  1.1001e-39, -3.1409e-39,  2.8056e-39, -1.8799e-38,\n",
              "           5.3558e-39,  3.4472e-39,  3.8796e-39,  4.0491e-39, -4.4325e-39,\n",
              "           8.9301e-40, -2.7318e-12, -7.1439e-09, -4.5373e-39,  2.7663e-39,\n",
              "           7.5756e-38, -3.2428e-39,  3.7162e-39,  3.0898e-39,  6.8631e-40,\n",
              "           4.5290e-42, -1.1572e-40,  4.4366e-39, -1.2287e-27, -1.5276e-40,\n",
              "           3.6535e-41, -3.1894e-40,  6.3204e-39, -8.6743e-40, -6.3596e-39]],\n",
              "        requires_grad=True),\n",
              " Parameter containing:\n",
              " tensor([-1.7289e-01,  2.5812e-01, -2.4078e-01, -2.5088e-01, -7.7969e-01,\n",
              "          1.9780e-01,  1.8324e-01, -2.7474e-01, -3.6954e-01,  4.3157e-01,\n",
              "         -2.7658e-01,  4.3270e-01, -2.9234e-01, -4.5448e-02, -1.1203e-03,\n",
              "         -3.8596e-39], requires_grad=True),\n",
              " Parameter containing:\n",
              " tensor([[-1.8818e-02, -2.5119e-02, -1.4728e-02,  4.1639e-02, -2.0576e-02,\n",
              "          -1.0380e-02, -1.8663e-02,  5.9078e-39, -1.5581e-01, -1.8276e-01,\n",
              "          -2.0229e-01,  5.6195e-02,  1.6687e-01,  2.1726e-01,  3.4539e-02,\n",
              "          -1.3156e-39],\n",
              "         [ 3.6425e-02, -1.5821e-01,  6.7020e-02,  8.0086e-03,  3.4502e-02,\n",
              "           1.4051e-01,  4.3843e-39, -1.1133e-39,  1.4594e-02, -2.5376e-01,\n",
              "          -4.3012e-02, -5.5309e-02, -1.7473e-01,  2.4221e-01,  9.5697e-40,\n",
              "           6.5725e-39],\n",
              "         [ 2.4084e-01, -5.1521e-02,  1.5345e-01,  1.5600e-01,  3.5906e-01,\n",
              "          -1.0434e-01, -5.3369e-02, -8.6447e-02,  2.3797e-01,  5.1289e-02,\n",
              "          -1.4032e-02, -3.8504e-03,  2.2111e-01,  8.2521e-02,  6.6199e-02,\n",
              "          -7.1817e-03],\n",
              "         [-9.9619e-02,  7.8632e-02,  4.5475e-02, -2.0033e-01, -4.3833e-02,\n",
              "           5.5006e-02,  2.3646e-02, -6.4444e-02,  1.9550e-01,  8.4653e-02,\n",
              "          -3.1703e-01,  2.8814e-01,  1.6056e-01,  1.3820e-01,  9.9777e-02,\n",
              "           1.0746e-02],\n",
              "         [ 1.0320e-01,  1.2978e-02, -3.9706e-04, -2.5067e-01,  5.8588e-02,\n",
              "          -4.5426e-01,  1.1938e-01,  2.5044e-01,  3.2828e-02,  8.1144e-03,\n",
              "          -1.9822e-01,  1.0890e-01, -7.0344e-02, -7.9921e-02, -8.5179e-02,\n",
              "          -2.7008e-27],\n",
              "         [ 1.0252e-01, -7.2825e-02,  1.8825e-03, -1.5358e-01, -8.2428e-02,\n",
              "           6.2373e-02,  3.2815e-39,  1.0607e-39, -7.9802e-02, -1.0453e-01,\n",
              "          -1.0131e-01,  1.3115e-01, -1.8316e-01,  8.3768e-02,  2.9154e-04,\n",
              "          -3.0405e-39],\n",
              "         [-1.2349e-01, -5.3179e-02,  5.0471e-02, -3.1560e-03,  1.6810e-01,\n",
              "           1.5260e-01,  4.1579e-02, -1.2959e-01, -1.3979e-01, -2.0680e-01,\n",
              "           8.1711e-02,  1.6173e-02,  2.0637e-01,  2.2360e-01,  5.2271e-02,\n",
              "          -6.0324e-09],\n",
              "         [ 1.0659e-01,  2.7895e-02, -1.3532e-01, -5.3600e-02, -3.1044e-01,\n",
              "           1.2755e-01, -1.9410e-01, -1.4669e-01, -5.4976e-02,  1.4511e-01,\n",
              "           8.4266e-02,  6.7846e-02, -8.3976e-02, -1.9253e-01,  8.5261e-40,\n",
              "          -3.4370e-39],\n",
              "         [-1.2693e-01,  1.9368e-01, -1.7168e-01, -1.0897e-01,  1.7545e-01,\n",
              "           1.2651e-01,  1.4118e-01,  1.2832e-01, -8.1961e-02, -1.4043e-01,\n",
              "           9.0138e-02,  8.5436e-02, -4.9194e-02,  2.0475e-01, -1.1642e-01,\n",
              "           7.2249e-10],\n",
              "         [ 1.9067e-01,  1.2141e-01, -1.4005e-01,  9.2784e-02, -1.1816e-01,\n",
              "           6.1606e-02,  1.8208e-01, -2.2639e-01, -1.1868e-01,  2.0193e-01,\n",
              "          -2.1913e-01, -3.4252e-02, -9.4581e-02, -4.6286e-02,  1.0530e-02,\n",
              "          -9.9440e-03],\n",
              "         [ 6.3141e-02, -6.3665e-02, -4.9112e-02, -4.3772e-01, -3.6409e-01,\n",
              "           1.0108e-02,  1.2307e-02,  1.0648e-02, -3.8588e-02, -6.3994e-02,\n",
              "           1.9627e-01, -3.0710e-02,  1.9798e-01,  1.5218e-01,  2.2407e-02,\n",
              "           1.5378e-03],\n",
              "         [ 1.1167e-01, -3.2691e-02, -1.7810e-01,  1.1071e-01, -4.1910e-02,\n",
              "           1.7114e-01, -1.8033e-39, -4.2278e-39, -2.7790e-01, -6.2614e-02,\n",
              "          -7.4529e-02,  1.5491e-01, -1.2230e-01, -2.0758e-01,  4.9145e-03,\n",
              "           1.5351e-39],\n",
              "         [ 8.4908e-02, -7.7403e-02,  7.6331e-02, -1.5153e-01, -9.5437e-02,\n",
              "          -4.0066e-01,  7.2655e-02,  4.9747e-02,  1.8518e-01, -5.2716e-02,\n",
              "           1.6119e-01,  1.3304e-01,  5.4289e-02, -1.4861e-01, -1.0636e-02,\n",
              "          -2.8869e-03],\n",
              "         [-1.4277e-01,  2.5018e-01,  5.8576e-02, -9.9070e-02, -1.8165e-01,\n",
              "           6.8912e-02, -1.5454e-01,  1.1935e-01, -1.1266e-01,  1.0321e-02,\n",
              "           4.9199e-02,  9.4849e-02, -3.0795e-02,  4.1420e-02, -7.2727e-02,\n",
              "           2.7833e-38],\n",
              "         [-2.5899e-04,  1.8414e-01,  6.4061e-02, -5.5102e-02, -1.2318e-01,\n",
              "          -5.3742e-02, -1.4013e-01,  4.8553e-03, -2.1691e-01,  1.8016e-01,\n",
              "           1.7731e-01,  3.2294e-02, -1.2466e-01, -2.5024e-01, -5.2086e-39,\n",
              "          -9.9823e-40],\n",
              "         [-1.5824e-02, -4.0847e-03,  1.2428e-02, -8.5268e-03,  5.4255e-03,\n",
              "          -2.2055e-04, -7.0155e-03, -1.1273e-02, -5.0314e-02, -4.8578e-02,\n",
              "          -1.5586e-02, -1.9666e-03, -5.8675e-02, -6.2733e-03, -5.4132e-39,\n",
              "          -2.4327e-39]], requires_grad=True),\n",
              " Parameter containing:\n",
              " tensor([-6.5091e-02, -2.6028e-01, -8.4317e-01,  5.3050e-01, -2.6167e-01,\n",
              "         -1.5988e-01, -1.1505e-01, -1.1673e-01,  9.7781e-02,  5.8369e-01,\n",
              "          3.3949e-01,  3.2121e-02, -5.8036e-01,  4.1997e-01,  1.9841e-01,\n",
              "          4.6971e-05], requires_grad=True),\n",
              " Parameter containing:\n",
              " tensor([[-0.1064, -0.1053, -0.1052,  0.1399, -0.0104, -0.0166, -0.1364, -0.0054,\n",
              "           0.1483,  0.2356,  0.1382,  0.1604, -0.0626,  0.2071,  0.0951, -0.0100]],\n",
              "        requires_grad=True),\n",
              " Parameter containing:\n",
              " tensor([0.7416], requires_grad=True)]"
            ]
          },
          "execution_count": 76,
          "metadata": {},
          "output_type": "execute_result"
        }
      ],
      "source": [
        "params"
      ]
    },
    {
      "cell_type": "code",
      "execution_count": 77,
      "metadata": {
        "colab": {
          "base_uri": "https://localhost:8080/",
          "height": 35
        },
        "id": "TaU6bV7lrusK",
        "outputId": "107e2fd6-0d10-4a94-9923-de8097267793"
      },
      "outputs": [
        {
          "data": {
            "text/plain": [
              "torch.Size([16, 30])"
            ]
          },
          "execution_count": 77,
          "metadata": {},
          "output_type": "execute_result"
        }
      ],
      "source": [
        "# 30 -> 16 -> 16 -> 1\n",
        "pesos0 = params[0]\n",
        "pesos0.shape"
      ]
    },
    {
      "cell_type": "code",
      "execution_count": 78,
      "metadata": {
        "colab": {
          "base_uri": "https://localhost:8080/",
          "height": 1000
        },
        "id": "JRIKPKKgr94O",
        "outputId": "7adb9449-23d5-4ec5-b080-b6e967863b29"
      },
      "outputs": [
        {
          "name": "stdout",
          "output_type": "stream",
          "text": [
            "Parameter containing:\n",
            "tensor([[-6.9537e-02, -7.6251e-02, -1.7509e-01,  5.4204e-02, -1.5442e-01,\n",
            "          1.0065e-01, -1.3578e-01, -1.2356e-01, -2.2725e-01,  1.9374e-01,\n",
            "         -3.4267e-02,  5.8904e-02, -1.2563e-01, -8.7217e-02, -3.5901e-04,\n",
            "         -2.2019e-01, -3.9123e-01, -1.2445e-02,  1.3856e-01,  2.4448e-03,\n",
            "          1.4020e-01, -4.8890e-02, -3.3449e-02,  1.4495e-01,  4.9342e-01,\n",
            "          1.2753e-01, -1.8688e-01,  3.9847e-02,  2.8978e-01,  4.1387e-02],\n",
            "        [ 1.9539e-01,  2.0192e-01,  2.8234e-01,  9.1706e-02, -1.3019e-01,\n",
            "         -7.7657e-02, -4.8287e-02, -1.3043e-01, -4.6018e-02,  2.6494e-01,\n",
            "         -5.9741e-02, -9.3107e-02, -2.0819e-03,  1.8033e-01, -5.0927e-03,\n",
            "         -9.2861e-02, -1.1140e-02,  1.9047e-01,  1.0000e-01, -1.4144e-02,\n",
            "          9.8384e-02,  5.3950e-02,  1.8551e-01,  4.1831e-04, -1.6448e-02,\n",
            "         -2.3621e-01, -1.6503e-01, -8.6718e-03, -6.3805e-02, -1.6640e-01],\n",
            "        [-1.2157e-02, -4.5317e-02, -2.4382e-01, -1.0570e-01, -9.9634e-03,\n",
            "          5.0544e-02,  3.2754e-02,  1.6623e-02, -9.7602e-02,  2.8518e-01,\n",
            "          1.6180e-01,  9.3185e-02, -1.1620e-01, -3.4289e-03, -1.1539e-03,\n",
            "         -2.4636e-01,  2.8207e-02,  8.7694e-04,  3.4154e-01, -4.5140e-04,\n",
            "          3.7205e-02, -1.8139e-01, -7.6016e-02, -1.0258e-03, -2.6413e-01,\n",
            "         -1.2432e-01, -1.7695e-01,  9.8322e-02,  2.3275e-02, -9.0592e-03],\n",
            "        [-3.7208e-01,  4.1547e-02, -1.5304e-01,  8.8715e-02, -1.8680e-01,\n",
            "         -1.8333e-02,  7.1596e-03,  4.2689e-02,  1.3150e-01, -2.2073e-01,\n",
            "          1.9073e-01, -1.5305e-01,  3.6852e-02,  1.2990e-02, -3.6266e-04,\n",
            "          5.1183e-02,  2.2570e-02, -8.2687e-03,  1.4464e-01,  4.8479e-03,\n",
            "          5.8626e-02, -1.5630e-01, -7.5106e-02,  1.5170e-02,  2.4111e-01,\n",
            "          8.4098e-02,  2.4124e-02,  2.4312e-01,  1.1355e-01,  3.9679e-01],\n",
            "        [-4.3357e-01, -3.9462e-02, -1.3677e-01, -1.3401e-01,  3.7850e-01,\n",
            "          3.4363e-02,  1.1986e-01, -3.1987e-01, -3.0203e-01,  2.3847e-01,\n",
            "         -1.8979e-01,  2.6087e-02, -1.5674e-02,  6.5712e-02,  4.2756e-02,\n",
            "         -3.1816e-01, -3.0037e-01, -2.2399e-01,  3.4493e-01,  2.3942e-01,\n",
            "         -2.9464e-01, -9.4262e-03, -1.6922e-01,  2.4669e-01, -3.4302e-03,\n",
            "         -8.0764e-02, -4.2520e-01, -1.0965e-01, -2.3407e-03,  5.0446e-01],\n",
            "        [ 2.8404e-02, -1.4107e-02,  1.1102e-01,  1.0879e-01,  5.5796e-02,\n",
            "          4.2099e-01, -7.5994e-02,  3.1389e-01,  2.0983e-01, -9.6094e-02,\n",
            "          1.4318e-01,  1.5400e-01, -1.0834e-01,  1.3934e-01, -1.8004e-03,\n",
            "          3.2087e-01,  1.8999e-01,  1.0694e-01, -2.6697e-01, -8.8991e-02,\n",
            "          2.8595e-02, -1.7895e-01,  3.7859e-02, -2.1833e-02, -1.9340e-01,\n",
            "         -1.1177e-02, -7.0179e-02,  2.5824e-01,  7.3466e-02, -2.5215e-01],\n",
            "        [-4.5899e-03,  2.5723e-02,  3.0429e-01, -1.1577e-01, -2.2323e-01,\n",
            "         -5.3055e-01, -2.8124e-02, -2.6426e-02,  2.2736e-01,  2.4246e-02,\n",
            "         -1.0645e-01, -2.4698e-01,  6.0224e-02,  5.4536e-02, -1.3672e-03,\n",
            "         -2.3603e-02,  7.6553e-02, -6.2570e-03,  2.9065e-01, -5.3652e-03,\n",
            "          1.2864e-02, -6.5811e-02,  2.0337e-01, -9.6635e-02, -2.8902e-01,\n",
            "          1.2236e-01,  1.9427e-01, -2.0618e-01, -2.5784e-01,  5.2674e-02],\n",
            "        [-2.8814e-01, -1.1936e-02, -1.3632e-01, -1.7103e-01,  3.4398e-01,\n",
            "         -2.3001e-02,  5.1845e-03, -1.8859e-02, -5.0937e-02, -4.9122e-02,\n",
            "         -8.5479e-02, -1.1210e-01,  6.9473e-02,  1.0536e-01,  3.5077e-03,\n",
            "          2.0951e-02, -1.0831e-01,  1.3315e-02, -2.7941e-01,  8.1686e-03,\n",
            "         -2.1089e-01,  8.5634e-02, -2.9390e-01,  9.4985e-02, -4.6387e-02,\n",
            "         -2.9478e-01,  4.1883e-02,  1.1845e-01, -3.1749e-02,  5.3517e-02],\n",
            "        [ 8.5973e-02, -1.5864e-01, -3.8438e-01, -3.9313e-02,  3.7651e-01,\n",
            "          1.2726e-01, -4.0954e-01, -1.0380e-01,  1.1364e-01,  2.0713e-01,\n",
            "          1.7097e-01, -3.0458e-02,  1.1033e-01,  3.7491e-02,  7.6883e-03,\n",
            "         -1.3592e-01,  4.1649e-03, -2.6945e-01,  4.1645e-01, -2.4793e-02,\n",
            "         -2.5158e-01, -4.8356e-02, -2.9716e-01,  2.0864e-01, -5.2920e-02,\n",
            "          1.9009e-01, -7.5869e-02,  1.9982e-01,  1.0361e-01,  2.7149e-01],\n",
            "        [-2.5574e-02,  1.4385e-01,  2.8989e-01,  1.6649e-02, -3.2659e-01,\n",
            "         -1.4918e-01, -8.5333e-02,  1.6691e-01,  4.5100e-02,  1.0509e-01,\n",
            "          1.1071e-01, -1.7552e-01,  1.5138e-01, -1.7264e-01, -8.7220e-03,\n",
            "          2.8647e-02,  1.6278e-01,  1.2109e-01,  1.3263e-01, -2.0531e-01,\n",
            "          1.8701e-01, -1.4560e-01,  3.1272e-01, -7.4984e-02,  1.3513e-01,\n",
            "          4.5559e-03, -7.5659e-03, -9.7024e-02,  8.9418e-02, -1.4925e-01],\n",
            "        [-1.3947e-01, -4.5819e-02,  4.1106e-02,  1.9231e-02, -4.9399e-02,\n",
            "         -1.0014e-01, -1.3327e-01, -1.2580e-01,  2.6688e-01,  4.5126e-02,\n",
            "         -1.2524e-01,  5.0679e-02, -1.1162e-01,  2.3974e-01, -3.0105e-03,\n",
            "         -7.1421e-02, -7.2132e-02, -3.3844e-01, -1.5641e-01,  1.5949e-03,\n",
            "         -2.0297e-01, -9.3920e-02,  4.8712e-02,  1.2287e-01,  2.9328e-01,\n",
            "         -1.6325e-01,  3.2059e-01,  2.2422e-01, -1.3585e-01, -2.7697e-02],\n",
            "        [ 6.8920e-02, -6.9314e-03,  1.3242e-01,  1.4913e-01, -5.7865e-02,\n",
            "          2.2269e-01, -1.3074e-01,  2.5067e-01,  1.9640e-01, -1.0274e-01,\n",
            "          1.4753e-02,  8.7765e-02, -1.5469e-02, -3.2735e-01, -1.5268e-02,\n",
            "          3.4772e-01,  2.7749e-03,  3.3015e-01, -2.3611e-01, -1.9761e-01,\n",
            "          2.0629e-01, -4.1265e-02,  3.0519e-01, -1.3225e-01, -2.2216e-01,\n",
            "          1.9389e-01,  3.7359e-02,  7.9449e-02,  1.2713e-01, -4.6492e-01],\n",
            "        [ 1.1813e-01,  5.6344e-02, -2.5749e-01, -5.5530e-02,  1.4007e-01,\n",
            "          2.0926e-01,  2.5149e-01,  4.7492e-02, -7.5797e-02, -2.5795e-01,\n",
            "          1.2910e-01, -4.0053e-02,  1.0827e-01,  7.1895e-02, -4.1414e-03,\n",
            "         -5.1035e-02,  3.8708e-03,  2.2812e-02, -2.8202e-01,  1.6070e-01,\n",
            "          6.1531e-02,  1.4741e-01, -2.6971e-02,  4.3637e-02, -4.1293e-02,\n",
            "          1.2581e-01, -9.8662e-04, -2.5549e-01,  8.5642e-02,  1.1677e-01],\n",
            "        [ 8.9813e-02, -1.1062e-01, -1.0879e-01,  1.4312e-02,  6.2214e-02,\n",
            "          4.7760e-03, -1.2587e-01,  6.7915e-02, -4.6284e-02, -1.8729e-01,\n",
            "          1.7709e-01, -1.1360e-01, -1.6870e-01,  1.4722e-01,  2.9263e-03,\n",
            "          1.0901e-02,  1.5890e-01, -1.0866e-01,  3.4335e-01,  3.7819e-03,\n",
            "          1.2217e-01, -3.0380e-02, -8.9205e-02,  1.4773e-01, -2.6031e-02,\n",
            "         -2.0584e-01, -6.6943e-02,  9.8351e-02,  1.1043e-01,  2.4176e-02],\n",
            "        [ 5.7721e-02, -2.3592e-02,  4.5249e-02, -1.2951e-01, -1.8510e-16,\n",
            "         -6.3558e-13,  7.4083e-11, -9.6452e-40, -2.5953e-02,  2.1831e-23,\n",
            "         -6.8755e-05, -2.1425e-02, -2.5864e-02, -3.5407e-02,  2.4080e-39,\n",
            "          1.5248e-39, -1.5475e-02, -1.1091e-39,  2.1476e-39, -2.8391e-40,\n",
            "          7.1263e-02,  8.6059e-02, -1.0550e-01, -1.7020e-01, -8.6335e-13,\n",
            "         -7.4117e-04,  2.7547e-06, -2.9729e-20, -1.4382e-06, -4.0465e-18],\n",
            "        [ 1.3325e-39,  1.1001e-39, -3.1409e-39,  2.8056e-39, -1.8799e-38,\n",
            "          5.3558e-39,  3.4472e-39,  3.8796e-39,  4.0491e-39, -4.4325e-39,\n",
            "          8.9301e-40, -2.7318e-12, -7.1439e-09, -4.5373e-39,  2.7663e-39,\n",
            "          7.5756e-38, -3.2428e-39,  3.7162e-39,  3.0898e-39,  6.8631e-40,\n",
            "          4.5290e-42, -1.1572e-40,  4.4366e-39, -1.2287e-27, -1.5276e-40,\n",
            "          3.6535e-41, -3.1894e-40,  6.3204e-39, -8.6743e-40, -6.3596e-39]],\n",
            "       requires_grad=True)\n"
          ]
        }
      ],
      "source": [
        "print(pesos0)"
      ]
    },
    {
      "cell_type": "code",
      "execution_count": 79,
      "metadata": {
        "colab": {
          "base_uri": "https://localhost:8080/",
          "height": 35
        },
        "id": "q42zQLHFsIWC",
        "outputId": "11ac5c44-e042-4e8a-9e59-49d873d2c35a"
      },
      "outputs": [
        {
          "data": {
            "text/plain": [
              "torch.Size([16])"
            ]
          },
          "execution_count": 79,
          "metadata": {},
          "output_type": "execute_result"
        }
      ],
      "source": [
        "# 30 -> 16 -> 16 -> 1\n",
        "bias0 = params[1]\n",
        "bias0.shape"
      ]
    },
    {
      "cell_type": "code",
      "execution_count": 80,
      "metadata": {
        "colab": {
          "base_uri": "https://localhost:8080/",
          "height": 35
        },
        "id": "3IWG8GFjsTr5",
        "outputId": "8170c305-39d6-438f-fd84-64b14225236c"
      },
      "outputs": [
        {
          "data": {
            "text/plain": [
              "torch.Size([16, 16])"
            ]
          },
          "execution_count": 80,
          "metadata": {},
          "output_type": "execute_result"
        }
      ],
      "source": [
        "pesos1 = params[2]\n",
        "pesos1.shape"
      ]
    },
    {
      "cell_type": "code",
      "execution_count": 81,
      "metadata": {
        "colab": {
          "base_uri": "https://localhost:8080/",
          "height": 35
        },
        "id": "yfgtWyWrsbbY",
        "outputId": "69541407-f90d-4535-b0cf-b8aef2a5678c"
      },
      "outputs": [
        {
          "data": {
            "text/plain": [
              "torch.Size([16])"
            ]
          },
          "execution_count": 81,
          "metadata": {},
          "output_type": "execute_result"
        }
      ],
      "source": [
        "bias1 = params[3]\n",
        "bias1.shape"
      ]
    },
    {
      "cell_type": "markdown",
      "metadata": {
        "id": "AyTjLzELSdQF"
      },
      "source": [
        "## Etapa 7: Avaliação do modelo"
      ]
    },
    {
      "cell_type": "code",
      "execution_count": 82,
      "metadata": {
        "colab": {
          "base_uri": "https://localhost:8080/",
          "height": 155
        },
        "id": "ZafmlssFs5SG",
        "outputId": "0ae6be37-f4c9-43d7-ac69-45688e3af448"
      },
      "outputs": [
        {
          "data": {
            "text/plain": [
              "Sequential(\n",
              "  (0): Linear(in_features=30, out_features=16, bias=True)\n",
              "  (1): ReLU()\n",
              "  (2): Linear(in_features=16, out_features=16, bias=True)\n",
              "  (3): ReLU()\n",
              "  (4): Linear(in_features=16, out_features=1, bias=True)\n",
              "  (5): Sigmoid()\n",
              ")"
            ]
          },
          "execution_count": 82,
          "metadata": {},
          "output_type": "execute_result"
        }
      ],
      "source": [
        "#.eval() evaluation mode stops training and weight adjustments\n",
        "classificador.eval()"
      ]
    },
    {
      "cell_type": "code",
      "execution_count": 83,
      "metadata": {
        "colab": {
          "base_uri": "https://localhost:8080/",
          "height": 35
        },
        "id": "7C3BgZGGtJvp",
        "outputId": "5fc4efdb-1567-42d5-f819-f263f0d37e43"
      },
      "outputs": [
        {
          "data": {
            "text/plain": [
              "pandas.core.frame.DataFrame"
            ]
          },
          "execution_count": 83,
          "metadata": {},
          "output_type": "execute_result"
        }
      ],
      "source": [
        "type(previsores_teste)"
      ]
    },
    {
      "cell_type": "code",
      "execution_count": 84,
      "metadata": {
        "id": "PuL49MUEtOrh"
      },
      "outputs": [],
      "source": [
        "previsores_teste = torch.tensor(np.array(previsores_teste), dtype=torch.float)"
      ]
    },
    {
      "cell_type": "code",
      "execution_count": 85,
      "metadata": {
        "colab": {
          "base_uri": "https://localhost:8080/",
          "height": 35
        },
        "id": "LmAqJEHHtZNC",
        "outputId": "9cf4012f-9009-44d9-825c-175912856913"
      },
      "outputs": [
        {
          "data": {
            "text/plain": [
              "torch.Tensor"
            ]
          },
          "execution_count": 85,
          "metadata": {},
          "output_type": "execute_result"
        }
      ],
      "source": [
        "type(previsores_teste)"
      ]
    },
    {
      "cell_type": "code",
      "execution_count": 86,
      "metadata": {
        "id": "Fe8muTxbtc1G"
      },
      "outputs": [],
      "source": [
        "previsoes = classificador.forward(previsores_teste)"
      ]
    },
    {
      "cell_type": "code",
      "execution_count": 87,
      "metadata": {
        "colab": {
          "base_uri": "https://localhost:8080/",
          "height": 1000
        },
        "id": "fn0leHiAtqpx",
        "outputId": "a85b9b7f-998b-4bf0-fd54-650e1824e771"
      },
      "outputs": [
        {
          "data": {
            "text/plain": [
              "tensor([[9.9343e-01],\n",
              "        [1.0000e+00],\n",
              "        [4.4810e-01],\n",
              "        [9.6889e-01],\n",
              "        [2.4190e-04],\n",
              "        [8.5552e-01],\n",
              "        [9.4859e-01],\n",
              "        [9.9976e-01],\n",
              "        [6.9172e-01],\n",
              "        [6.2148e-01],\n",
              "        [9.4319e-01],\n",
              "        [9.9781e-01],\n",
              "        [9.8115e-01],\n",
              "        [9.9566e-01],\n",
              "        [9.9528e-01],\n",
              "        [8.4966e-01],\n",
              "        [9.9589e-01],\n",
              "        [1.0000e+00],\n",
              "        [3.8435e-01],\n",
              "        [9.9654e-01],\n",
              "        [2.4737e-10],\n",
              "        [1.3299e-02],\n",
              "        [5.1388e-01],\n",
              "        [1.0000e+00],\n",
              "        [9.1471e-01],\n",
              "        [5.1335e-03],\n",
              "        [8.2585e-01],\n",
              "        [1.0000e+00],\n",
              "        [2.1750e-04],\n",
              "        [9.9790e-01],\n",
              "        [5.3644e-01],\n",
              "        [9.9999e-01],\n",
              "        [8.8585e-01],\n",
              "        [9.8646e-01],\n",
              "        [4.7128e-01],\n",
              "        [9.9816e-01],\n",
              "        [6.3675e-01],\n",
              "        [9.9854e-01],\n",
              "        [9.9834e-01],\n",
              "        [2.1024e-05],\n",
              "        [5.3622e-03],\n",
              "        [9.4315e-01],\n",
              "        [4.3994e-08],\n",
              "        [3.4081e-01],\n",
              "        [4.0611e-05],\n",
              "        [6.2099e-01],\n",
              "        [3.2823e-04],\n",
              "        [2.6164e-31],\n",
              "        [6.8410e-01],\n",
              "        [2.0183e-02],\n",
              "        [9.5082e-01],\n",
              "        [2.4065e-15],\n",
              "        [9.7806e-01],\n",
              "        [9.5809e-01],\n",
              "        [9.9371e-01],\n",
              "        [6.3280e-01],\n",
              "        [9.9984e-01],\n",
              "        [3.4695e-08],\n",
              "        [1.9075e-06],\n",
              "        [9.8856e-01],\n",
              "        [6.9911e-05],\n",
              "        [9.9751e-01],\n",
              "        [9.9022e-01],\n",
              "        [9.9558e-01],\n",
              "        [6.4670e-01],\n",
              "        [3.1191e-08],\n",
              "        [1.0000e+00],\n",
              "        [1.0000e+00],\n",
              "        [1.0000e+00],\n",
              "        [7.5260e-01],\n",
              "        [1.0000e+00],\n",
              "        [9.7058e-01],\n",
              "        [1.2501e-01],\n",
              "        [9.1762e-01],\n",
              "        [4.4634e-04],\n",
              "        [9.9829e-01],\n",
              "        [9.4305e-01],\n",
              "        [3.2772e-10],\n",
              "        [8.3503e-06],\n",
              "        [3.3516e-01],\n",
              "        [8.8140e-01],\n",
              "        [5.4393e-06],\n",
              "        [4.9430e-07],\n",
              "        [9.9298e-01],\n",
              "        [1.0000e+00],\n",
              "        [1.0000e+00],\n",
              "        [1.6033e-01],\n",
              "        [9.9577e-01],\n",
              "        [1.8276e-03],\n",
              "        [7.3605e-01],\n",
              "        [1.7216e-02],\n",
              "        [9.8314e-01],\n",
              "        [9.7577e-01],\n",
              "        [2.7056e-02],\n",
              "        [9.9673e-01],\n",
              "        [9.9994e-01],\n",
              "        [9.9962e-01],\n",
              "        [9.9542e-01],\n",
              "        [9.6490e-03],\n",
              "        [1.0000e+00],\n",
              "        [9.9992e-01],\n",
              "        [1.0000e+00],\n",
              "        [9.9786e-01],\n",
              "        [9.8215e-01],\n",
              "        [9.6472e-01],\n",
              "        [1.0000e+00],\n",
              "        [1.0000e+00],\n",
              "        [9.9228e-01],\n",
              "        [1.0000e+00],\n",
              "        [9.9723e-01],\n",
              "        [1.0000e+00],\n",
              "        [9.9996e-01],\n",
              "        [8.5174e-01],\n",
              "        [1.3340e-05],\n",
              "        [9.3609e-01],\n",
              "        [4.2672e-04],\n",
              "        [9.9859e-01],\n",
              "        [1.0454e-03],\n",
              "        [9.9809e-01],\n",
              "        [9.9574e-01],\n",
              "        [8.6672e-01],\n",
              "        [7.4715e-01],\n",
              "        [9.9980e-01],\n",
              "        [9.9867e-01],\n",
              "        [4.0030e-07],\n",
              "        [9.9099e-01],\n",
              "        [2.7443e-03],\n",
              "        [3.4404e-01],\n",
              "        [1.0000e+00],\n",
              "        [9.9550e-01],\n",
              "        [6.7297e-10],\n",
              "        [9.1421e-01],\n",
              "        [1.0000e+00],\n",
              "        [2.5719e-02],\n",
              "        [4.8637e-06],\n",
              "        [9.6173e-01],\n",
              "        [9.9016e-01],\n",
              "        [9.9975e-01],\n",
              "        [8.9556e-02],\n",
              "        [9.3790e-06],\n",
              "        [4.4043e-06],\n",
              "        [9.9445e-01],\n",
              "        [1.0659e-11]], grad_fn=<SigmoidBackward0>)"
            ]
          },
          "execution_count": 87,
          "metadata": {},
          "output_type": "execute_result"
        }
      ],
      "source": [
        "previsoes"
      ]
    },
    {
      "cell_type": "code",
      "execution_count": 88,
      "metadata": {
        "colab": {
          "base_uri": "https://localhost:8080/",
          "height": 1000
        },
        "id": "MzALzgDet3Hr",
        "outputId": "19db47e8-a5fc-4226-8c32-145c47be31ad"
      },
      "outputs": [
        {
          "data": {
            "text/plain": [
              "array([[ True],\n",
              "       [ True],\n",
              "       [False],\n",
              "       [ True],\n",
              "       [False],\n",
              "       [ True],\n",
              "       [ True],\n",
              "       [ True],\n",
              "       [ True],\n",
              "       [ True],\n",
              "       [ True],\n",
              "       [ True],\n",
              "       [ True],\n",
              "       [ True],\n",
              "       [ True],\n",
              "       [ True],\n",
              "       [ True],\n",
              "       [ True],\n",
              "       [False],\n",
              "       [ True],\n",
              "       [False],\n",
              "       [False],\n",
              "       [ True],\n",
              "       [ True],\n",
              "       [ True],\n",
              "       [False],\n",
              "       [ True],\n",
              "       [ True],\n",
              "       [False],\n",
              "       [ True],\n",
              "       [ True],\n",
              "       [ True],\n",
              "       [ True],\n",
              "       [ True],\n",
              "       [False],\n",
              "       [ True],\n",
              "       [ True],\n",
              "       [ True],\n",
              "       [ True],\n",
              "       [False],\n",
              "       [False],\n",
              "       [ True],\n",
              "       [False],\n",
              "       [False],\n",
              "       [False],\n",
              "       [ True],\n",
              "       [False],\n",
              "       [False],\n",
              "       [ True],\n",
              "       [False],\n",
              "       [ True],\n",
              "       [False],\n",
              "       [ True],\n",
              "       [ True],\n",
              "       [ True],\n",
              "       [ True],\n",
              "       [ True],\n",
              "       [False],\n",
              "       [False],\n",
              "       [ True],\n",
              "       [False],\n",
              "       [ True],\n",
              "       [ True],\n",
              "       [ True],\n",
              "       [ True],\n",
              "       [False],\n",
              "       [ True],\n",
              "       [ True],\n",
              "       [ True],\n",
              "       [ True],\n",
              "       [ True],\n",
              "       [ True],\n",
              "       [False],\n",
              "       [ True],\n",
              "       [False],\n",
              "       [ True],\n",
              "       [ True],\n",
              "       [False],\n",
              "       [False],\n",
              "       [False],\n",
              "       [ True],\n",
              "       [False],\n",
              "       [False],\n",
              "       [ True],\n",
              "       [ True],\n",
              "       [ True],\n",
              "       [False],\n",
              "       [ True],\n",
              "       [False],\n",
              "       [ True],\n",
              "       [False],\n",
              "       [ True],\n",
              "       [ True],\n",
              "       [False],\n",
              "       [ True],\n",
              "       [ True],\n",
              "       [ True],\n",
              "       [ True],\n",
              "       [False],\n",
              "       [ True],\n",
              "       [ True],\n",
              "       [ True],\n",
              "       [ True],\n",
              "       [ True],\n",
              "       [ True],\n",
              "       [ True],\n",
              "       [ True],\n",
              "       [ True],\n",
              "       [ True],\n",
              "       [ True],\n",
              "       [ True],\n",
              "       [ True],\n",
              "       [ True],\n",
              "       [False],\n",
              "       [ True],\n",
              "       [False],\n",
              "       [ True],\n",
              "       [False],\n",
              "       [ True],\n",
              "       [ True],\n",
              "       [ True],\n",
              "       [ True],\n",
              "       [ True],\n",
              "       [ True],\n",
              "       [False],\n",
              "       [ True],\n",
              "       [False],\n",
              "       [False],\n",
              "       [ True],\n",
              "       [ True],\n",
              "       [False],\n",
              "       [ True],\n",
              "       [ True],\n",
              "       [False],\n",
              "       [False],\n",
              "       [ True],\n",
              "       [ True],\n",
              "       [ True],\n",
              "       [False],\n",
              "       [False],\n",
              "       [False],\n",
              "       [ True],\n",
              "       [False]])"
            ]
          },
          "execution_count": 88,
          "metadata": {},
          "output_type": "execute_result"
        }
      ],
      "source": [
        "previsoes = np.array(previsoes > 0.5)\n",
        "previsoes"
      ]
    },
    {
      "cell_type": "code",
      "execution_count": 89,
      "metadata": {
        "colab": {
          "base_uri": "https://localhost:8080/",
          "height": 407
        },
        "id": "YVPFTbGeuSU5",
        "outputId": "bb9afbd9-ffb1-4ff6-f1d3-cd49f4ab61b5"
      },
      "outputs": [
        {
          "data": {
            "text/html": [
              "<div>\n",
              "<style scoped>\n",
              "    .dataframe tbody tr th:only-of-type {\n",
              "        vertical-align: middle;\n",
              "    }\n",
              "\n",
              "    .dataframe tbody tr th {\n",
              "        vertical-align: top;\n",
              "    }\n",
              "\n",
              "    .dataframe thead th {\n",
              "        text-align: right;\n",
              "    }\n",
              "</style>\n",
              "<table border=\"1\" class=\"dataframe\">\n",
              "  <thead>\n",
              "    <tr style=\"text-align: right;\">\n",
              "      <th></th>\n",
              "      <th>0</th>\n",
              "    </tr>\n",
              "  </thead>\n",
              "  <tbody>\n",
              "    <tr>\n",
              "      <th>333</th>\n",
              "      <td>1</td>\n",
              "    </tr>\n",
              "    <tr>\n",
              "      <th>273</th>\n",
              "      <td>1</td>\n",
              "    </tr>\n",
              "    <tr>\n",
              "      <th>201</th>\n",
              "      <td>0</td>\n",
              "    </tr>\n",
              "    <tr>\n",
              "      <th>178</th>\n",
              "      <td>1</td>\n",
              "    </tr>\n",
              "    <tr>\n",
              "      <th>85</th>\n",
              "      <td>0</td>\n",
              "    </tr>\n",
              "    <tr>\n",
              "      <th>...</th>\n",
              "      <td>...</td>\n",
              "    </tr>\n",
              "    <tr>\n",
              "      <th>230</th>\n",
              "      <td>0</td>\n",
              "    </tr>\n",
              "    <tr>\n",
              "      <th>282</th>\n",
              "      <td>0</td>\n",
              "    </tr>\n",
              "    <tr>\n",
              "      <th>535</th>\n",
              "      <td>0</td>\n",
              "    </tr>\n",
              "    <tr>\n",
              "      <th>436</th>\n",
              "      <td>1</td>\n",
              "    </tr>\n",
              "    <tr>\n",
              "      <th>236</th>\n",
              "      <td>0</td>\n",
              "    </tr>\n",
              "  </tbody>\n",
              "</table>\n",
              "<p>143 rows × 1 columns</p>\n",
              "</div>"
            ],
            "text/plain": [
              "     0\n",
              "333  1\n",
              "273  1\n",
              "201  0\n",
              "178  1\n",
              "85   0\n",
              "..  ..\n",
              "230  0\n",
              "282  0\n",
              "535  0\n",
              "436  1\n",
              "236  0\n",
              "\n",
              "[143 rows x 1 columns]"
            ]
          },
          "execution_count": 89,
          "metadata": {},
          "output_type": "execute_result"
        }
      ],
      "source": [
        "classe_teste"
      ]
    },
    {
      "cell_type": "code",
      "execution_count": 90,
      "metadata": {
        "colab": {
          "base_uri": "https://localhost:8080/",
          "height": 35
        },
        "id": "U7jfnFtZuNVn",
        "outputId": "318e00a5-c292-4d5b-f1af-263509b93d96"
      },
      "outputs": [
        {
          "data": {
            "text/plain": [
              "0.9020979020979021"
            ]
          },
          "execution_count": 90,
          "metadata": {},
          "output_type": "execute_result"
        }
      ],
      "source": [
        "taxa_acerto = accuracy_score(classe_teste, previsoes)\n",
        "taxa_acerto"
      ]
    },
    {
      "cell_type": "code",
      "execution_count": 91,
      "metadata": {
        "colab": {
          "base_uri": "https://localhost:8080/",
          "height": 52
        },
        "id": "g0Z3LgbcutQD",
        "outputId": "edd8f508-e9f6-45a5-fd4d-cb00dc357df2"
      },
      "outputs": [
        {
          "data": {
            "text/plain": [
              "array([[43, 11],\n",
              "       [ 3, 86]], dtype=int64)"
            ]
          },
          "execution_count": 91,
          "metadata": {},
          "output_type": "execute_result"
        }
      ],
      "source": [
        "matriz = confusion_matrix(classe_teste, previsoes)\n",
        "matriz"
      ]
    },
    {
      "cell_type": "code",
      "execution_count": 92,
      "metadata": {
        "colab": {
          "base_uri": "https://localhost:8080/",
          "height": 265
        },
        "id": "BlaTftH_uzpv",
        "outputId": "9fc8e761-2d88-4c5f-ec84-ec9c543ac213"
      },
      "outputs": [
        {
          "data": {
            "image/png": "[encoded data removed]",
            "text/plain": [
              "<Figure size 640x480 with 2 Axes>"
            ]
          },
          "metadata": {},
          "output_type": "display_data"
        }
      ],
      "source": [
        "sns.heatmap(matriz, annot=True);"
      ]
    }
  ],
  "metadata": {
    "accelerator": "GPU",
    "colab": {
      "provenance": []
    },
    "kernelspec": {
      "display_name": "Python 3",
      "name": "python3"
    },
    "language_info": {
      "codemirror_mode": {
        "name": "ipython",
        "version": 3
      },
      "file_extension": ".py",
      "mimetype": "text/x-python",
      "name": "python",
      "nbconvert_exporter": "python",
      "pygments_lexer": "ipython3",
      "version": "3.7.7"
    }
  },
  "nbformat": 4,
  "nbformat_minor": 0
}
