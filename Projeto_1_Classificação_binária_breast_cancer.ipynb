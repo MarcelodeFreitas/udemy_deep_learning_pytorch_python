{
  "nbformat": 4,
  "nbformat_minor": 0,
  "metadata": {
    "colab": {
      "provenance": [],
      "include_colab_link": true
    },
    "kernelspec": {
      "name": "python3",
      "display_name": "Python 3"
    },
    "accelerator": "GPU"
  },
  "cells": [
    {
      "cell_type": "markdown",
      "metadata": {
        "id": "view-in-github",
        "colab_type": "text"
      },
      "source": [
        "<a href=\"https://colab.research.google.com/github/MarcelodeFreitas/udemy_deep_learning_pytorch_python/blob/main/Projeto_1_Classifica%C3%A7%C3%A3o_bin%C3%A1ria_breast_cancer.ipynb\" target=\"_parent\"><img src=\"https://colab.research.google.com/assets/colab-badge.svg\" alt=\"Open In Colab\"/></a>"
      ]
    },
    {
      "cell_type": "markdown",
      "metadata": {
        "id": "rD_RSER5Lkb5"
      },
      "source": [
        "# Projeto 1: Classificação binária brest cancer"
      ]
    },
    {
      "cell_type": "markdown",
      "metadata": {
        "id": "5tP2BcEILoLB"
      },
      "source": [
        "## Etapa 1: Importação das bibliotecas"
      ]
    },
    {
      "cell_type": "code",
      "metadata": {
        "id": "B1WlABbCcw2B"
      },
      "source": [
        "import pandas as pd\n",
        "from sklearn.model_selection import train_test_split\n",
        "import numpy as np\n",
        "import seaborn as sns\n",
        "from sklearn.metrics import confusion_matrix, accuracy_score"
      ],
      "execution_count": 4,
      "outputs": []
    },
    {
      "cell_type": "code",
      "metadata": {
        "id": "b85d_o8BdFub",
        "colab": {
          "base_uri": "https://localhost:8080/"
        },
        "outputId": "d31208a3-916e-4a09-ce2a-e37d9fa0aa10"
      },
      "source": [
        "import torch\n",
        "torch.__version__\n",
        "!pip install torch==1.4.0"
      ],
      "execution_count": 3,
      "outputs": [
        {
          "output_type": "stream",
          "name": "stdout",
          "text": [
            "\u001b[31mERROR: Could not find a version that satisfies the requirement torch==1.4.0 (from versions: 1.11.0, 1.12.0, 1.12.1, 1.13.0, 1.13.1, 2.0.0, 2.0.1, 2.1.0, 2.1.1, 2.1.2)\u001b[0m\u001b[31m\n",
            "\u001b[0m\u001b[31mERROR: No matching distribution found for torch==1.4.0\u001b[0m\u001b[31m\n",
            "\u001b[0m"
          ]
        }
      ]
    },
    {
      "cell_type": "code",
      "metadata": {
        "id": "UVO3Mj3qdjru"
      },
      "source": [
        "import torch.nn as nn"
      ],
      "execution_count": null,
      "outputs": []
    },
    {
      "cell_type": "markdown",
      "metadata": {
        "id": "C0SD4dJ4MDMN"
      },
      "source": [
        "## Etapa 2: Base de dados"
      ]
    },
    {
      "cell_type": "code",
      "metadata": {
        "id": "i81g-4ADedrN",
        "colab": {
          "base_uri": "https://localhost:8080/",
          "height": 35
        },
        "outputId": "5c393b1e-1f22-4ea0-a24c-d71d8af23a2f"
      },
      "source": [
        "np.random.seed(123)\n",
        "torch.manual_seed(123)"
      ],
      "execution_count": null,
      "outputs": [
        {
          "output_type": "execute_result",
          "data": {
            "text/plain": [
              "<torch._C.Generator at 0x7f83a57db9b0>"
            ]
          },
          "metadata": {
            "tags": []
          },
          "execution_count": 4
        }
      ]
    },
    {
      "cell_type": "code",
      "metadata": {
        "id": "PjbIvUYwfBH8"
      },
      "source": [
        "previsores = pd.read_csv('/content/entradas_breast.csv')\n",
        "classe = pd.read_csv('/content/saidas_breast.csv')"
      ],
      "execution_count": null,
      "outputs": []
    },
    {
      "cell_type": "code",
      "metadata": {
        "id": "yFDDZfZTfOq5",
        "colab": {
          "base_uri": "https://localhost:8080/",
          "height": 35
        },
        "outputId": "5622094f-fec7-4460-caed-5aaf59a2e79f"
      },
      "source": [
        "previsores.shape"
      ],
      "execution_count": null,
      "outputs": [
        {
          "output_type": "execute_result",
          "data": {
            "text/plain": [
              "(569, 30)"
            ]
          },
          "metadata": {
            "tags": []
          },
          "execution_count": 6
        }
      ]
    },
    {
      "cell_type": "code",
      "metadata": {
        "id": "rqiQvr3HfUc4",
        "colab": {
          "base_uri": "https://localhost:8080/",
          "height": 218
        },
        "outputId": "c6c00224-a15f-45fc-dda8-68f96bacc43a"
      },
      "source": [
        "previsores.head()"
      ],
      "execution_count": null,
      "outputs": [
        {
          "output_type": "execute_result",
          "data": {
            "text/html": [
              "<div>\n",
              "<style scoped>\n",
              "    .dataframe tbody tr th:only-of-type {\n",
              "        vertical-align: middle;\n",
              "    }\n",
              "\n",
              "    .dataframe tbody tr th {\n",
              "        vertical-align: top;\n",
              "    }\n",
              "\n",
              "    .dataframe thead th {\n",
              "        text-align: right;\n",
              "    }\n",
              "</style>\n",
              "<table border=\"1\" class=\"dataframe\">\n",
              "  <thead>\n",
              "    <tr style=\"text-align: right;\">\n",
              "      <th></th>\n",
              "      <th>radius_mean</th>\n",
              "      <th>texture_mean</th>\n",
              "      <th>perimeter_mean</th>\n",
              "      <th>area_mean</th>\n",
              "      <th>smoothness_mean</th>\n",
              "      <th>compactness_mean</th>\n",
              "      <th>concavity_mean</th>\n",
              "      <th>concave_points_mean</th>\n",
              "      <th>symmetry_mean</th>\n",
              "      <th>fractal_dimension_mean</th>\n",
              "      <th>radius_se</th>\n",
              "      <th>texture_se</th>\n",
              "      <th>perimeter_se</th>\n",
              "      <th>area_se</th>\n",
              "      <th>smoothness_se</th>\n",
              "      <th>compactness_se</th>\n",
              "      <th>concavity_se</th>\n",
              "      <th>concave_points_se</th>\n",
              "      <th>symmetry_se</th>\n",
              "      <th>fractal_dimension_se</th>\n",
              "      <th>radius_worst</th>\n",
              "      <th>texture_worst</th>\n",
              "      <th>perimeter_worst</th>\n",
              "      <th>area_worst</th>\n",
              "      <th>smoothness_worst</th>\n",
              "      <th>compactness_worst</th>\n",
              "      <th>concavity_worst</th>\n",
              "      <th>concave_points_worst</th>\n",
              "      <th>symmetry_worst</th>\n",
              "      <th>fractal_dimension_worst</th>\n",
              "    </tr>\n",
              "  </thead>\n",
              "  <tbody>\n",
              "    <tr>\n",
              "      <th>0</th>\n",
              "      <td>17.99</td>\n",
              "      <td>10.38</td>\n",
              "      <td>122.80</td>\n",
              "      <td>1001.0</td>\n",
              "      <td>0.11840</td>\n",
              "      <td>0.27760</td>\n",
              "      <td>0.3001</td>\n",
              "      <td>0.14710</td>\n",
              "      <td>0.2419</td>\n",
              "      <td>0.07871</td>\n",
              "      <td>1095.0000</td>\n",
              "      <td>0.9053</td>\n",
              "      <td>8589.0</td>\n",
              "      <td>153.40</td>\n",
              "      <td>0.006399</td>\n",
              "      <td>0.04904</td>\n",
              "      <td>0.05373</td>\n",
              "      <td>0.01587</td>\n",
              "      <td>0.03003</td>\n",
              "      <td>0.006193</td>\n",
              "      <td>25.38</td>\n",
              "      <td>17.33</td>\n",
              "      <td>184.60</td>\n",
              "      <td>2019.0</td>\n",
              "      <td>0.1622</td>\n",
              "      <td>0.6656</td>\n",
              "      <td>0.7119</td>\n",
              "      <td>0.2654</td>\n",
              "      <td>0.4601</td>\n",
              "      <td>0.11890</td>\n",
              "    </tr>\n",
              "    <tr>\n",
              "      <th>1</th>\n",
              "      <td>20.57</td>\n",
              "      <td>17.77</td>\n",
              "      <td>132.90</td>\n",
              "      <td>1326.0</td>\n",
              "      <td>0.08474</td>\n",
              "      <td>0.07864</td>\n",
              "      <td>0.0869</td>\n",
              "      <td>0.07017</td>\n",
              "      <td>0.1812</td>\n",
              "      <td>0.05667</td>\n",
              "      <td>0.5435</td>\n",
              "      <td>0.7339</td>\n",
              "      <td>3398.0</td>\n",
              "      <td>74.08</td>\n",
              "      <td>0.005225</td>\n",
              "      <td>0.01308</td>\n",
              "      <td>0.01860</td>\n",
              "      <td>0.01340</td>\n",
              "      <td>0.01389</td>\n",
              "      <td>0.003532</td>\n",
              "      <td>24.99</td>\n",
              "      <td>23.41</td>\n",
              "      <td>158.80</td>\n",
              "      <td>1956.0</td>\n",
              "      <td>0.1238</td>\n",
              "      <td>0.1866</td>\n",
              "      <td>0.2416</td>\n",
              "      <td>186.0000</td>\n",
              "      <td>275.0000</td>\n",
              "      <td>0.08902</td>\n",
              "    </tr>\n",
              "    <tr>\n",
              "      <th>2</th>\n",
              "      <td>19.69</td>\n",
              "      <td>21.25</td>\n",
              "      <td>130.00</td>\n",
              "      <td>1203.0</td>\n",
              "      <td>0.10960</td>\n",
              "      <td>0.15990</td>\n",
              "      <td>0.1974</td>\n",
              "      <td>0.12790</td>\n",
              "      <td>0.2069</td>\n",
              "      <td>0.05999</td>\n",
              "      <td>0.7456</td>\n",
              "      <td>0.7869</td>\n",
              "      <td>4585.0</td>\n",
              "      <td>94.03</td>\n",
              "      <td>0.006150</td>\n",
              "      <td>0.04006</td>\n",
              "      <td>0.03832</td>\n",
              "      <td>0.02058</td>\n",
              "      <td>0.02250</td>\n",
              "      <td>0.004571</td>\n",
              "      <td>23.57</td>\n",
              "      <td>25.53</td>\n",
              "      <td>152.50</td>\n",
              "      <td>1709.0</td>\n",
              "      <td>0.1444</td>\n",
              "      <td>0.4245</td>\n",
              "      <td>0.4504</td>\n",
              "      <td>243.0000</td>\n",
              "      <td>0.3613</td>\n",
              "      <td>0.08758</td>\n",
              "    </tr>\n",
              "    <tr>\n",
              "      <th>3</th>\n",
              "      <td>11.42</td>\n",
              "      <td>20.38</td>\n",
              "      <td>77.58</td>\n",
              "      <td>386.1</td>\n",
              "      <td>0.14250</td>\n",
              "      <td>0.28390</td>\n",
              "      <td>0.2414</td>\n",
              "      <td>0.10520</td>\n",
              "      <td>0.2597</td>\n",
              "      <td>0.09744</td>\n",
              "      <td>0.4956</td>\n",
              "      <td>1156.0000</td>\n",
              "      <td>3445.0</td>\n",
              "      <td>27.23</td>\n",
              "      <td>0.009110</td>\n",
              "      <td>0.07458</td>\n",
              "      <td>0.05661</td>\n",
              "      <td>0.01867</td>\n",
              "      <td>0.05963</td>\n",
              "      <td>0.009208</td>\n",
              "      <td>14.91</td>\n",
              "      <td>26.50</td>\n",
              "      <td>98.87</td>\n",
              "      <td>567.7</td>\n",
              "      <td>0.2098</td>\n",
              "      <td>0.8663</td>\n",
              "      <td>0.6869</td>\n",
              "      <td>0.2575</td>\n",
              "      <td>0.6638</td>\n",
              "      <td>173.00000</td>\n",
              "    </tr>\n",
              "    <tr>\n",
              "      <th>4</th>\n",
              "      <td>20.29</td>\n",
              "      <td>14.34</td>\n",
              "      <td>135.10</td>\n",
              "      <td>1297.0</td>\n",
              "      <td>0.10030</td>\n",
              "      <td>0.13280</td>\n",
              "      <td>198.0000</td>\n",
              "      <td>0.10430</td>\n",
              "      <td>0.1809</td>\n",
              "      <td>0.05883</td>\n",
              "      <td>0.7572</td>\n",
              "      <td>0.7813</td>\n",
              "      <td>5438.0</td>\n",
              "      <td>94.44</td>\n",
              "      <td>0.011490</td>\n",
              "      <td>0.02461</td>\n",
              "      <td>0.05688</td>\n",
              "      <td>0.01885</td>\n",
              "      <td>0.01756</td>\n",
              "      <td>0.005115</td>\n",
              "      <td>22.54</td>\n",
              "      <td>16.67</td>\n",
              "      <td>152.20</td>\n",
              "      <td>1575.0</td>\n",
              "      <td>0.1374</td>\n",
              "      <td>205.0000</td>\n",
              "      <td>0.4000</td>\n",
              "      <td>0.1625</td>\n",
              "      <td>0.2364</td>\n",
              "      <td>0.07678</td>\n",
              "    </tr>\n",
              "  </tbody>\n",
              "</table>\n",
              "</div>"
            ],
            "text/plain": [
              "    radius_mean   texture_mean  ...   symmetry_worst   fractal_dimension_worst\n",
              "0         17.99          10.38  ...           0.4601                   0.11890\n",
              "1         20.57          17.77  ...         275.0000                   0.08902\n",
              "2         19.69          21.25  ...           0.3613                   0.08758\n",
              "3         11.42          20.38  ...           0.6638                 173.00000\n",
              "4         20.29          14.34  ...           0.2364                   0.07678\n",
              "\n",
              "[5 rows x 30 columns]"
            ]
          },
          "metadata": {
            "tags": []
          },
          "execution_count": 7
        }
      ]
    },
    {
      "cell_type": "code",
      "metadata": {
        "id": "kKqSDj3bfdQB",
        "colab": {
          "base_uri": "https://localhost:8080/",
          "height": 198
        },
        "outputId": "8bc0596c-e2b5-4a90-9c43-de49542dd331"
      },
      "source": [
        "classe.head()"
      ],
      "execution_count": null,
      "outputs": [
        {
          "output_type": "execute_result",
          "data": {
            "text/html": [
              "<div>\n",
              "<style scoped>\n",
              "    .dataframe tbody tr th:only-of-type {\n",
              "        vertical-align: middle;\n",
              "    }\n",
              "\n",
              "    .dataframe tbody tr th {\n",
              "        vertical-align: top;\n",
              "    }\n",
              "\n",
              "    .dataframe thead th {\n",
              "        text-align: right;\n",
              "    }\n",
              "</style>\n",
              "<table border=\"1\" class=\"dataframe\">\n",
              "  <thead>\n",
              "    <tr style=\"text-align: right;\">\n",
              "      <th></th>\n",
              "      <th>0</th>\n",
              "    </tr>\n",
              "  </thead>\n",
              "  <tbody>\n",
              "    <tr>\n",
              "      <th>0</th>\n",
              "      <td>0</td>\n",
              "    </tr>\n",
              "    <tr>\n",
              "      <th>1</th>\n",
              "      <td>0</td>\n",
              "    </tr>\n",
              "    <tr>\n",
              "      <th>2</th>\n",
              "      <td>0</td>\n",
              "    </tr>\n",
              "    <tr>\n",
              "      <th>3</th>\n",
              "      <td>0</td>\n",
              "    </tr>\n",
              "    <tr>\n",
              "      <th>4</th>\n",
              "      <td>0</td>\n",
              "    </tr>\n",
              "  </tbody>\n",
              "</table>\n",
              "</div>"
            ],
            "text/plain": [
              "   0\n",
              "0  0\n",
              "1  0\n",
              "2  0\n",
              "3  0\n",
              "4  0"
            ]
          },
          "metadata": {
            "tags": []
          },
          "execution_count": 8
        }
      ]
    },
    {
      "cell_type": "code",
      "metadata": {
        "id": "-jSqJh18fhL1",
        "colab": {
          "base_uri": "https://localhost:8080/",
          "height": 35
        },
        "outputId": "ade8bf7e-a224-41ee-8b0f-e68c2631ab4f"
      },
      "source": [
        "np.unique(classe)"
      ],
      "execution_count": null,
      "outputs": [
        {
          "output_type": "execute_result",
          "data": {
            "text/plain": [
              "array([0, 1])"
            ]
          },
          "metadata": {
            "tags": []
          },
          "execution_count": 10
        }
      ]
    },
    {
      "cell_type": "code",
      "metadata": {
        "id": "aKLO9jX0fs-3",
        "colab": {
          "base_uri": "https://localhost:8080/",
          "height": 279
        },
        "outputId": "2bae8ac5-dc76-4b50-dd84-8f211c241c4d"
      },
      "source": [
        "sns.countplot(classe['0']);"
      ],
      "execution_count": null,
      "outputs": [
        {
          "output_type": "display_data",
          "data": {
            "image/png": "[encoded data removed]",
            "text/plain": [
              "<Figure size 432x288 with 1 Axes>"
            ]
          },
          "metadata": {
            "tags": []
          }
        }
      ]
    },
    {
      "cell_type": "code",
      "metadata": {
        "id": "UX9ZDhUMgBsv"
      },
      "source": [
        "previsores_treinamento, previsores_teste, classe_treinamento, classe_teste = train_test_split(previsores,\n",
        "                                                                                              classe,\n",
        "                                                                                              test_size = 0.25)"
      ],
      "execution_count": null,
      "outputs": []
    },
    {
      "cell_type": "code",
      "metadata": {
        "id": "7SEVQyX9gR4O",
        "colab": {
          "base_uri": "https://localhost:8080/",
          "height": 35
        },
        "outputId": "e17fe638-2fe2-4bf9-a153-387890b02a80"
      },
      "source": [
        "previsores_treinamento.shape"
      ],
      "execution_count": null,
      "outputs": [
        {
          "output_type": "execute_result",
          "data": {
            "text/plain": [
              "(426, 30)"
            ]
          },
          "metadata": {
            "tags": []
          },
          "execution_count": 15
        }
      ]
    },
    {
      "cell_type": "code",
      "metadata": {
        "id": "ZA6wrOMygUmg",
        "colab": {
          "base_uri": "https://localhost:8080/",
          "height": 35
        },
        "outputId": "c7b32dc3-aa6f-4657-b852-d227f5253807"
      },
      "source": [
        "classe_treinamento.shape"
      ],
      "execution_count": null,
      "outputs": [
        {
          "output_type": "execute_result",
          "data": {
            "text/plain": [
              "(426, 1)"
            ]
          },
          "metadata": {
            "tags": []
          },
          "execution_count": 16
        }
      ]
    },
    {
      "cell_type": "code",
      "metadata": {
        "id": "SKyN_plmgZzH",
        "colab": {
          "base_uri": "https://localhost:8080/",
          "height": 35
        },
        "outputId": "9731a0e6-f5d9-46ed-ff82-65dfeb6dd14f"
      },
      "source": [
        "previsores_teste.shape"
      ],
      "execution_count": null,
      "outputs": [
        {
          "output_type": "execute_result",
          "data": {
            "text/plain": [
              "(143, 30)"
            ]
          },
          "metadata": {
            "tags": []
          },
          "execution_count": 17
        }
      ]
    },
    {
      "cell_type": "code",
      "metadata": {
        "id": "wN_AXcfggdWC",
        "colab": {
          "base_uri": "https://localhost:8080/",
          "height": 35
        },
        "outputId": "003c4608-cf51-4bfe-f500-ea62d3dace01"
      },
      "source": [
        "classe_teste.shape"
      ],
      "execution_count": null,
      "outputs": [
        {
          "output_type": "execute_result",
          "data": {
            "text/plain": [
              "(143, 1)"
            ]
          },
          "metadata": {
            "tags": []
          },
          "execution_count": 18
        }
      ]
    },
    {
      "cell_type": "markdown",
      "metadata": {
        "id": "72uvlxJrOuWd"
      },
      "source": [
        "## Etapa 3: Transformação dos dados para tensores\n"
      ]
    },
    {
      "cell_type": "code",
      "metadata": {
        "id": "nk5Gjgb7hBCo",
        "colab": {
          "base_uri": "https://localhost:8080/",
          "height": 35
        },
        "outputId": "3052a57a-3128-40df-e6ab-7afdd7600040"
      },
      "source": [
        "type(previsores_treinamento)"
      ],
      "execution_count": null,
      "outputs": [
        {
          "output_type": "execute_result",
          "data": {
            "text/plain": [
              "pandas.core.frame.DataFrame"
            ]
          },
          "metadata": {
            "tags": []
          },
          "execution_count": 19
        }
      ]
    },
    {
      "cell_type": "code",
      "metadata": {
        "id": "aIzWASyMhMmy",
        "colab": {
          "base_uri": "https://localhost:8080/",
          "height": 35
        },
        "outputId": "e804d0cf-4d26-47e8-8604-80c9fb18967d"
      },
      "source": [
        "type(np.array(previsores_treinamento))"
      ],
      "execution_count": null,
      "outputs": [
        {
          "output_type": "execute_result",
          "data": {
            "text/plain": [
              "numpy.ndarray"
            ]
          },
          "metadata": {
            "tags": []
          },
          "execution_count": 20
        }
      ]
    },
    {
      "cell_type": "code",
      "metadata": {
        "id": "hqPER9AYhTpt"
      },
      "source": [
        "previsores_treinamento = torch.tensor(np.array(previsores_treinamento), dtype=torch.float)\n",
        "classe_treinamento = torch.tensor(np.array(classe_treinamento), dtype = torch.float)"
      ],
      "execution_count": null,
      "outputs": []
    },
    {
      "cell_type": "code",
      "metadata": {
        "id": "u-2HrvEJh5Km",
        "colab": {
          "base_uri": "https://localhost:8080/",
          "height": 35
        },
        "outputId": "555eaae3-a9af-4e5d-902c-1d9f6a65b488"
      },
      "source": [
        "type(previsores_treinamento)"
      ],
      "execution_count": null,
      "outputs": [
        {
          "output_type": "execute_result",
          "data": {
            "text/plain": [
              "torch.Tensor"
            ]
          },
          "metadata": {
            "tags": []
          },
          "execution_count": 22
        }
      ]
    },
    {
      "cell_type": "code",
      "metadata": {
        "id": "lqL8ypLSh79u",
        "colab": {
          "base_uri": "https://localhost:8080/",
          "height": 35
        },
        "outputId": "3a0f3c1d-54aa-4357-a469-8a42f44c6a0f"
      },
      "source": [
        "type(classe_treinamento)"
      ],
      "execution_count": null,
      "outputs": [
        {
          "output_type": "execute_result",
          "data": {
            "text/plain": [
              "torch.Tensor"
            ]
          },
          "metadata": {
            "tags": []
          },
          "execution_count": 23
        }
      ]
    },
    {
      "cell_type": "code",
      "metadata": {
        "id": "__6a-iZhiJVI"
      },
      "source": [
        "dataset = torch.utils.data.TensorDataset(previsores_treinamento, classe_treinamento)"
      ],
      "execution_count": null,
      "outputs": []
    },
    {
      "cell_type": "code",
      "metadata": {
        "id": "t0sP_kvViZJl",
        "colab": {
          "base_uri": "https://localhost:8080/",
          "height": 35
        },
        "outputId": "92b278f4-800f-40fc-e10f-0a7194254b2b"
      },
      "source": [
        "type(dataset)"
      ],
      "execution_count": null,
      "outputs": [
        {
          "output_type": "execute_result",
          "data": {
            "text/plain": [
              "torch.utils.data.dataset.TensorDataset"
            ]
          },
          "metadata": {
            "tags": []
          },
          "execution_count": 26
        }
      ]
    },
    {
      "cell_type": "code",
      "metadata": {
        "id": "5dIWzA4wihKD"
      },
      "source": [
        "train_loader = torch.utils.data.DataLoader(dataset, batch_size=10, shuffle=True)"
      ],
      "execution_count": null,
      "outputs": []
    },
    {
      "cell_type": "markdown",
      "metadata": {
        "id": "QGDLesyDQpIb"
      },
      "source": [
        "## Etapa 4: Construção do modelo"
      ]
    },
    {
      "cell_type": "code",
      "metadata": {
        "id": "1FAFgY56jmdG"
      },
      "source": [
        "# 30 -> 16 -> 16 -> 1\n",
        "# (entradas + saida) / 2 = (30 + 1) / 2 = 16\n",
        "classificador = nn.Sequential(\n",
        "    nn.Linear(in_features=30, out_features=16),\n",
        "    nn.ReLU(),\n",
        "    nn.Linear(16, 16),\n",
        "    nn.ReLU(),\n",
        "    nn.Linear(16, 1),\n",
        "    nn.Sigmoid()\n",
        ")"
      ],
      "execution_count": null,
      "outputs": []
    },
    {
      "cell_type": "code",
      "metadata": {
        "id": "ixwI_mhZlDVW",
        "colab": {
          "base_uri": "https://localhost:8080/",
          "height": 155
        },
        "outputId": "7208d62e-a589-42f4-c073-8eb3178b7fd1"
      },
      "source": [
        "classificador.parameters"
      ],
      "execution_count": null,
      "outputs": [
        {
          "output_type": "execute_result",
          "data": {
            "text/plain": [
              "<bound method Module.parameters of Sequential(\n",
              "  (0): Linear(in_features=30, out_features=16, bias=True)\n",
              "  (1): ReLU()\n",
              "  (2): Linear(in_features=16, out_features=16, bias=True)\n",
              "  (3): ReLU()\n",
              "  (4): Linear(in_features=16, out_features=1, bias=True)\n",
              "  (5): Sigmoid()\n",
              ")>"
            ]
          },
          "metadata": {
            "tags": []
          },
          "execution_count": 28
        }
      ]
    },
    {
      "cell_type": "code",
      "metadata": {
        "id": "--bNcvlplMh9"
      },
      "source": [
        "criterion = nn.BCELoss()"
      ],
      "execution_count": null,
      "outputs": []
    },
    {
      "cell_type": "code",
      "metadata": {
        "id": "Um6Tr3s_lXHK"
      },
      "source": [
        "optimizer = torch.optim.Adam(classificador.parameters(), lr=0.001, weight_decay=0.0001)"
      ],
      "execution_count": null,
      "outputs": []
    },
    {
      "cell_type": "markdown",
      "metadata": {
        "id": "appMwDHtRTN5"
      },
      "source": [
        "## Etapa 5: Treinamento do modelo"
      ]
    },
    {
      "cell_type": "code",
      "metadata": {
        "id": "exieZFSam_eI",
        "colab": {
          "base_uri": "https://localhost:8080/",
          "height": 1000
        },
        "outputId": "df1c5c39-0795-4b42-a4dd-5fbfcd775222"
      },
      "source": [
        "for epoch in range(100):\n",
        "  running_loss = 0.\n",
        "\n",
        "  for data in train_loader:\n",
        "    inputs, labels = data\n",
        "    #print(inputs)\n",
        "    #print('-----')\n",
        "    #print(labels)\n",
        "    optimizer.zero_grad()\n",
        "\n",
        "    outputs = classificador(inputs) # classificador.forward(inputs)\n",
        "    #print(outputs)\n",
        "    loss = criterion(outputs, labels)\n",
        "    #print(loss)\n",
        "    loss.backward()\n",
        "    optimizer.step()\n",
        "\n",
        "    running_loss += loss.item()\n",
        "  print('Época %3d: perda %.5f' % (epoch+1, running_loss/len(train_loader)))"
      ],
      "execution_count": null,
      "outputs": [
        {
          "output_type": "stream",
          "text": [
            "Época   1: perda 5.87815\n",
            "Época   2: perda 4.87103\n",
            "Época   3: perda 1.29733\n",
            "Época   4: perda 1.24724\n",
            "Época   5: perda 1.19310\n",
            "Época   6: perda 1.18619\n",
            "Época   7: perda 1.21091\n",
            "Época   8: perda 1.14510\n",
            "Época   9: perda 1.16327\n",
            "Época  10: perda 1.12653\n",
            "Época  11: perda 1.10449\n",
            "Época  12: perda 1.08082\n",
            "Época  13: perda 1.13301\n",
            "Época  14: perda 1.06838\n",
            "Época  15: perda 1.08918\n",
            "Época  16: perda 1.09816\n",
            "Época  17: perda 1.05278\n",
            "Época  18: perda 1.06715\n",
            "Época  19: perda 1.08669\n",
            "Época  20: perda 1.10395\n",
            "Época  21: perda 1.03446\n",
            "Época  22: perda 1.02123\n",
            "Época  23: perda 1.01870\n",
            "Época  24: perda 1.02281\n",
            "Época  25: perda 1.04290\n",
            "Época  26: perda 1.05502\n",
            "Época  27: perda 1.02884\n",
            "Época  28: perda 1.01405\n",
            "Época  29: perda 1.01658\n",
            "Época  30: perda 1.03053\n",
            "Época  31: perda 1.04432\n",
            "Época  32: perda 1.06828\n",
            "Época  33: perda 1.02021\n",
            "Época  34: perda 1.05841\n",
            "Época  35: perda 1.02615\n",
            "Época  36: perda 1.03503\n",
            "Época  37: perda 1.05089\n",
            "Época  38: perda 0.99213\n",
            "Época  39: perda 1.00877\n",
            "Época  40: perda 1.02131\n",
            "Época  41: perda 1.07343\n",
            "Época  42: perda 0.98716\n",
            "Época  43: perda 0.97825\n",
            "Época  44: perda 1.05178\n",
            "Época  45: perda 0.99208\n",
            "Época  46: perda 1.08154\n",
            "Época  47: perda 1.05018\n",
            "Época  48: perda 0.97764\n",
            "Época  49: perda 0.95629\n",
            "Época  50: perda 0.98342\n",
            "Época  51: perda 0.98828\n",
            "Época  52: perda 0.66924\n",
            "Época  53: perda 0.62271\n",
            "Época  54: perda 0.54286\n",
            "Época  55: perda 0.55054\n",
            "Época  56: perda 0.39894\n",
            "Época  57: perda 0.31683\n",
            "Época  58: perda 0.30397\n",
            "Época  59: perda 0.21131\n",
            "Época  60: perda 0.24807\n",
            "Época  61: perda 0.21891\n",
            "Época  62: perda 0.21093\n",
            "Época  63: perda 0.17394\n",
            "Época  64: perda 0.19032\n",
            "Época  65: perda 0.16251\n",
            "Época  66: perda 0.20367\n",
            "Época  67: perda 0.16994\n",
            "Época  68: perda 0.18428\n",
            "Época  69: perda 0.16789\n",
            "Época  70: perda 0.16244\n",
            "Época  71: perda 0.17686\n",
            "Época  72: perda 0.15362\n",
            "Época  73: perda 0.15560\n",
            "Época  74: perda 0.15789\n",
            "Época  75: perda 0.17183\n",
            "Época  76: perda 0.14769\n",
            "Época  77: perda 0.21816\n",
            "Época  78: perda 0.15176\n",
            "Época  79: perda 0.15593\n",
            "Época  80: perda 0.16270\n",
            "Época  81: perda 0.14156\n",
            "Época  82: perda 0.13361\n",
            "Época  83: perda 0.16715\n",
            "Época  84: perda 0.15558\n",
            "Época  85: perda 0.13078\n",
            "Época  86: perda 0.30003\n",
            "Época  87: perda 0.17176\n",
            "Época  88: perda 0.12766\n",
            "Época  89: perda 0.12807\n",
            "Época  90: perda 0.16079\n",
            "Época  91: perda 0.13784\n",
            "Época  92: perda 0.16152\n",
            "Época  93: perda 0.13358\n",
            "Época  94: perda 0.14267\n",
            "Época  95: perda 0.14233\n",
            "Época  96: perda 0.11975\n",
            "Época  97: perda 0.10560\n",
            "Época  98: perda 0.12168\n",
            "Época  99: perda 0.11697\n",
            "Época 100: perda 0.15564\n"
          ],
          "name": "stdout"
        }
      ]
    },
    {
      "cell_type": "markdown",
      "metadata": {
        "id": "ITUtUdQNSJcs"
      },
      "source": [
        "## Etapa 6: Visualização dos pesos"
      ]
    },
    {
      "cell_type": "code",
      "metadata": {
        "id": "p0E2vbaGreGc"
      },
      "source": [
        "# 30 -> 16 -> 16 -> 1\n",
        "params = list(classificador.parameters())"
      ],
      "execution_count": null,
      "outputs": []
    },
    {
      "cell_type": "code",
      "metadata": {
        "id": "y2sFTNaMroyw",
        "colab": {
          "base_uri": "https://localhost:8080/",
          "height": 1000
        },
        "outputId": "97322664-0fde-4032-efaa-026e716084fa"
      },
      "source": [
        "params"
      ],
      "execution_count": null,
      "outputs": [
        {
          "output_type": "execute_result",
          "data": {
            "text/plain": [
              "[Parameter containing:\n",
              " tensor([[-7.0918e-02, -2.4784e-01, -2.0447e-01,  4.4381e-02, -6.6166e-03,\n",
              "           1.6759e-01,  2.1851e-02,  6.7733e-02, -1.5071e-01,  1.7265e-01,\n",
              "           6.6839e-02,  5.0973e-02, -1.2273e-01, -3.3266e-02, -1.0328e-03,\n",
              "          -3.3557e-01, -1.9727e-01, -2.2332e-01,  3.1529e-01,  4.0256e-03,\n",
              "           1.2869e-01, -2.2151e-01, -6.1942e-02,  1.4110e-01, -1.6343e-02,\n",
              "           1.2666e-01, -1.8419e-01,  5.8866e-02,  3.0419e-01,  1.9340e-01],\n",
              "         [ 1.9249e-01,  1.7303e-01,  3.0585e-01,  1.0247e-01, -1.8210e-01,\n",
              "          -1.0000e-01, -5.6555e-02, -1.8532e-01,  2.8427e-02,  1.3400e-01,\n",
              "          -9.6749e-03, -6.1995e-02, -1.9660e-02,  1.9324e-01, -9.1747e-03,\n",
              "          -1.9983e-02,  3.2470e-02,  1.9160e-01,  1.9907e-01, -1.9701e-02,\n",
              "           8.7194e-02,  2.8786e-02,  2.0073e-01, -9.8248e-06,  1.6429e-01,\n",
              "          -1.8595e-01, -2.4993e-01,  1.4592e-02, -9.9360e-02, -1.6902e-01],\n",
              "         [ 1.2520e-03,  5.4250e-02, -1.8844e-01, -1.4577e-01,  1.8664e-06,\n",
              "           7.8834e-07,  4.9525e-07,  2.6984e-07, -1.1935e-01,  2.9529e-02,\n",
              "          -2.2390e-04,  5.5627e-02, -1.2991e-01, -1.2051e-01,  9.7807e-08,\n",
              "          -4.3348e-02, -1.1751e-08, -1.6850e-07, -4.2947e-08,  3.6992e-08,\n",
              "           5.7120e-02, -5.1448e-02, -2.7039e-02, -4.4571e-02, -3.7003e-02,\n",
              "          -1.1203e-03,  6.2429e-07, -1.9236e-06, -4.9824e-02,  1.3238e-06],\n",
              "         [-3.7912e-01,  5.5240e-02, -1.6090e-01,  8.7367e-02, -1.9638e-01,\n",
              "           7.7992e-02,  1.0731e-02,  2.1449e-02,  1.3796e-01, -2.5247e-01,\n",
              "           1.6462e-01, -1.4359e-01,  3.2973e-02,  1.5080e-02, -2.3690e-03,\n",
              "           8.2990e-03, -2.2821e-02, -8.6840e-02,  1.7230e-01,  1.4069e-03,\n",
              "          -7.0080e-02, -1.5028e-01, -8.7907e-02,  2.8283e-03,  2.7904e-01,\n",
              "           7.4556e-02, -1.3531e-02,  2.4465e-01,  1.8227e-01,  3.9362e-01],\n",
              "         [-3.9235e-01,  2.5967e-02, -1.0159e-01, -1.5293e-01,  4.0044e-01,\n",
              "          -1.0571e-01,  1.4379e-01, -3.1188e-01, -2.5135e-01,  1.4730e-01,\n",
              "          -1.0082e-01,  3.0902e-02, -1.1786e-02,  2.6881e-02,  3.2354e-02,\n",
              "          -2.3875e-01, -2.3728e-01, -2.2086e-01,  2.4039e-01,  3.1963e-01,\n",
              "          -2.3492e-01,  3.9950e-02, -1.3681e-01,  2.2638e-01,  1.3964e-02,\n",
              "          -4.5358e-02, -4.6151e-01, -2.1869e-01,  3.1481e-03,  3.7541e-01],\n",
              "         [-1.5168e-02, -3.2594e-02,  7.3957e-02,  1.0395e-01,  8.6493e-02,\n",
              "           3.0690e-01, -1.6825e-01,  3.9213e-01,  2.9956e-01, -1.5078e-01,\n",
              "           2.3488e-01,  1.7408e-01, -1.1780e-01,  1.6823e-01, -1.8371e-03,\n",
              "           3.4793e-01,  4.5361e-01,  6.4737e-02, -7.3428e-02, -1.7508e-01,\n",
              "           6.7890e-02, -2.2089e-01,  4.8865e-03, -2.6281e-02, -1.8629e-01,\n",
              "          -3.3245e-02, -8.2910e-02,  2.3881e-01,  4.6817e-02, -2.2797e-01],\n",
              "         [-5.3792e-03,  1.0122e-01,  2.9513e-01, -1.3377e-01, -1.3390e-01,\n",
              "          -4.5952e-01, -5.2668e-02, -1.3200e-03,  2.6313e-01,  2.1494e-02,\n",
              "          -8.7352e-02, -2.0657e-01,  5.6098e-02,  1.0311e-01, -1.2733e-03,\n",
              "          -2.1732e-02,  1.6392e-02, -8.3721e-03,  2.5867e-02, -4.2237e-03,\n",
              "           1.2057e-01,  3.6531e-02,  2.0053e-01, -9.8732e-02, -3.3813e-01,\n",
              "           1.6738e-01,  2.0025e-01, -1.3431e-01, -2.6289e-01,  1.5829e-02],\n",
              "         [-2.9701e-01, -4.7317e-02, -1.4407e-01, -1.6320e-01,  2.7602e-01,\n",
              "           3.5915e-02, -7.0260e-02, -3.1629e-02, -1.4101e-01, -7.1150e-02,\n",
              "          -1.0708e-01, -9.1273e-02,  8.4174e-02,  1.1506e-01,  1.4850e-03,\n",
              "          -4.3024e-02, -1.5058e-01, -8.4975e-02, -1.7067e-01, -3.4802e-03,\n",
              "          -2.1852e-01,  3.4726e-02, -2.9737e-01,  9.8381e-02, -8.3549e-02,\n",
              "          -6.2852e-02,  1.5687e-02,  9.4691e-02, -1.0209e-01, -1.3387e-02],\n",
              "         [-4.7755e-02, -1.2957e-01, -3.9096e-01, -4.3058e-02,  3.3560e-01,\n",
              "           7.0882e-02, -4.8577e-01, -1.3178e-01,  1.0224e-01, -3.1825e-01,\n",
              "           1.6448e-01, -1.0227e-01,  1.1344e-01, -2.1291e-02,  1.0279e-02,\n",
              "           8.3726e-02, -1.4594e-01, -3.2204e-01,  6.7749e-03, -2.4414e-02,\n",
              "          -3.6549e-01,  1.0853e-02, -2.9803e-01,  2.1602e-01,  9.1760e-02,\n",
              "           1.3661e-01, -5.5810e-02,  2.8190e-01,  1.2220e-01,  3.3890e-01],\n",
              "         [-8.1392e-03,  1.2734e-01,  3.0391e-01,  9.0710e-03, -2.2998e-01,\n",
              "          -1.8092e-01, -4.0252e-02,  1.1820e-01, -2.1137e-02,  1.6107e-01,\n",
              "           1.1815e-01, -1.6922e-01,  1.6056e-01, -2.6476e-01, -1.5034e-02,\n",
              "           2.5143e-02,  2.7810e-01,  1.6384e-01,  4.5361e-02, -3.5199e-01,\n",
              "           1.8731e-01, -1.6148e-01,  3.2334e-01, -7.9238e-02,  3.7471e-02,\n",
              "           5.3810e-02,  9.1971e-02, -1.0372e-01,  8.7794e-02, -2.3384e-01],\n",
              "         [-1.3952e-01, -2.5995e-02,  3.4847e-02,  4.1783e-02, -7.7033e-02,\n",
              "          -2.8136e-01, -1.8754e-01, -4.7096e-02,  2.4854e-01,  4.8002e-02,\n",
              "          -1.0063e-02,  4.5103e-02, -1.1246e-01,  2.1010e-01, -5.2504e-03,\n",
              "          -2.8274e-01, -1.8826e-01, -3.4455e-01, -1.9607e-01,  2.4862e-04,\n",
              "          -2.3357e-01, -6.7143e-02,  3.3627e-02,  1.3103e-01,  4.0833e-01,\n",
              "          -1.1129e-01,  2.7042e-01,  2.2429e-01, -1.0257e-01, -5.1335e-02],\n",
              "         [ 8.4376e-02, -2.8396e-03,  1.2288e-01,  1.3471e-01,  7.8981e-02,\n",
              "           3.3081e-01, -1.0429e-01,  2.7106e-01,  2.0261e-01, -1.7067e-01,\n",
              "          -1.7138e-02,  1.0619e-01, -2.8609e-02, -3.4538e-01, -1.1162e-02,\n",
              "           3.6389e-01,  3.2425e-01,  3.5217e-01, -1.9142e-01, -2.3808e-01,\n",
              "           2.0551e-01, -4.9108e-02,  3.1061e-01, -1.3658e-01, -1.4976e-01,\n",
              "           1.5407e-01,  1.2803e-01, -2.7260e-02,  1.8844e-01, -3.5992e-01],\n",
              "         [ 1.1146e-01,  8.6601e-02, -2.8476e-01, -5.6169e-02,  1.1590e-01,\n",
              "           1.7766e-01,  2.5551e-01, -9.2816e-02, -5.5807e-02, -5.1678e-02,\n",
              "           1.3883e-01, -5.3949e-02,  9.7376e-02,  7.9819e-02,  3.5525e-03,\n",
              "           4.1941e-03, -1.2193e-01, -5.7201e-02, -2.9496e-01,  2.5469e-01,\n",
              "           6.6959e-02,  1.7783e-01, -5.0446e-02,  5.3039e-02, -7.6938e-02,\n",
              "           6.7785e-02, -1.9742e-01, -2.1404e-01,  2.6412e-02,  3.4270e-01],\n",
              "         [ 7.7033e-02, -2.0799e-02, -6.3523e-02,  3.3402e-02,  4.5260e-02,\n",
              "           9.1200e-02, -9.3445e-02,  9.6959e-03, -1.0258e-01,  5.4582e-02,\n",
              "           1.3802e-01, -1.1048e-01, -1.7905e-01,  1.0443e-01,  6.0201e-03,\n",
              "          -3.8001e-03,  1.6559e-04, -1.5747e-02,  1.6088e-01,  4.2399e-03,\n",
              "           1.2000e-01,  4.8116e-02, -4.8451e-02,  1.6399e-01, -4.0203e-02,\n",
              "           3.4166e-01, -6.6115e-02,  7.5333e-02,  4.3036e-02,  4.8007e-03],\n",
              "         [ 8.0021e-02, -1.5045e-02,  6.4358e-02, -1.3573e-01,  2.3193e-39,\n",
              "          -4.2187e-40,  6.9338e-03,  5.6308e-40, -3.3611e-02, -1.2311e-39,\n",
              "          -5.0629e-12, -1.5791e-02, -1.9636e-02, -4.0032e-02, -3.4748e-39,\n",
              "           4.6591e-39, -9.2523e-40,  5.0462e-39,  2.4679e-39,  4.7542e-41,\n",
              "           9.1675e-02,  1.0107e-01, -1.0790e-01, -1.7668e-01, -3.9068e-34,\n",
              "          -9.6466e-15,  8.4974e-03, -5.4374e-03, -6.1223e-12, -1.9924e-39],\n",
              "         [-7.2615e-03, -1.4869e-02, -1.1128e-02, -1.7006e-02,  1.7559e-02,\n",
              "           1.4228e-02,  2.0871e-02,  2.0812e-02,  3.9646e-03,  1.0985e-39,\n",
              "           2.5079e-02, -4.4255e-04, -9.6441e-03, -1.6038e-02, -6.2466e-39,\n",
              "          -5.7685e-38,  1.1981e-04,  1.2827e-06,  1.5975e-07, -1.3329e-11,\n",
              "          -9.5997e-03, -2.0610e-02, -1.4061e-02, -2.2000e-02, -1.0941e-02,\n",
              "           1.1643e-02,  2.8772e-02, -1.8500e-02,  3.5551e-02, -1.8280e-02]],\n",
              "        requires_grad=True), Parameter containing:\n",
              " tensor([-2.4754e-01,  2.8161e-01, -5.2998e-03, -2.6802e-01, -6.8274e-01,\n",
              "          1.2282e-01,  1.8178e-01, -3.0754e-01, -3.6964e-01,  4.7284e-01,\n",
              "         -2.9364e-01,  4.0032e-01, -3.3781e-01,  2.7887e-02, -2.3857e-05,\n",
              "         -2.3938e-05], requires_grad=True), Parameter containing:\n",
              " tensor([[-1.3709e-02, -3.5024e-02, -1.3756e-02,  5.9703e-02, -1.9994e-01,\n",
              "          -2.9872e-02, -3.5724e-02, -2.9907e-02, -1.8109e-01, -1.9695e-01,\n",
              "          -2.3701e-01,  7.4917e-02,  1.5417e-01,  2.0488e-01,  5.6899e-02,\n",
              "          -5.2737e-22],\n",
              "         [-5.7612e-05, -2.8484e-02, -7.0227e-39, -1.6630e-02, -1.1632e-02,\n",
              "          -6.3937e-04, -7.0446e-03, -1.7278e-02, -1.3107e-02, -1.6564e-02,\n",
              "          -2.5787e-04, -3.8939e-03, -1.3646e-02, -4.2554e-11,  2.2949e-39,\n",
              "           9.1383e-40],\n",
              "         [ 2.8489e-01, -4.2216e-02,  1.0609e-01,  1.4392e-01,  3.3318e-01,\n",
              "          -9.2140e-02, -5.1343e-02, -1.3823e-01,  2.4297e-01,  5.3730e-02,\n",
              "           6.4288e-03,  1.8042e-02,  2.2917e-01,  7.3425e-02,  8.8884e-02,\n",
              "           5.2252e-03],\n",
              "         [-2.0577e-02,  7.8118e-02,  7.7951e-02, -1.9360e-01,  7.1360e-03,\n",
              "           5.8986e-02,  1.4238e-02, -1.2975e-02,  1.9248e-01,  7.9331e-02,\n",
              "          -3.6239e-01,  2.7198e-01,  1.5213e-01,  1.4503e-01,  1.0942e-01,\n",
              "          -5.5614e-03],\n",
              "         [-6.7247e-02,  5.7409e-02, -1.1813e-01, -2.5968e-01, -3.9524e-02,\n",
              "          -2.1388e-01,  1.3582e-01,  1.5864e-01,  1.4932e-02,  1.6576e-02,\n",
              "          -1.5759e-01,  8.7657e-02, -8.5551e-02, -1.4082e-01, -1.6076e-01,\n",
              "          -1.0314e-03],\n",
              "         [ 5.7076e-02, -7.6372e-02, -4.9003e-02, -4.9117e-02, -2.1599e-01,\n",
              "          -1.1253e-01, -1.0533e-39,  2.2449e-02, -3.9226e-02,  3.5678e-02,\n",
              "          -6.7066e-02,  9.2928e-02, -2.0813e-01, -3.1671e-02,  4.8731e-02,\n",
              "           3.2438e-39],\n",
              "         [-1.1065e-01, -4.5634e-02,  9.0027e-03, -2.4117e-02,  1.7533e-01,\n",
              "           1.6538e-01,  6.2747e-02,  4.9558e-03, -1.2811e-01, -2.1072e-01,\n",
              "           1.0451e-01,  1.4452e-02,  2.0836e-01,  2.1204e-01,  7.4864e-02,\n",
              "           1.3687e-02],\n",
              "         [-1.6934e-01,  9.1882e-02,  1.5741e-02, -9.5761e-02, -3.1399e-01,\n",
              "           2.1230e-01, -6.1598e-02, -1.9920e-01, -5.0201e-02,  1.9733e-01,\n",
              "          -2.0320e-01,  1.0213e-01,  4.4737e-03, -1.2991e-01,  1.5951e-39,\n",
              "          -3.3022e-03],\n",
              "         [-1.4565e-01,  1.9014e-01, -7.6326e-02, -8.6689e-02,  1.6515e-01,\n",
              "           1.1160e-01,  1.2390e-01,  1.7325e-01, -1.1232e-01, -1.4362e-01,\n",
              "           6.8307e-02,  6.9786e-02, -5.1234e-02,  2.1137e-01, -9.5690e-02,\n",
              "           5.3790e-02],\n",
              "         [ 1.5388e-01,  9.7290e-02, -1.6777e-01,  9.8710e-02, -1.3335e-01,\n",
              "           2.2313e-02,  1.8055e-01, -2.1711e-01, -1.1396e-01,  2.0155e-01,\n",
              "          -2.6394e-01, -6.4465e-02, -9.3317e-02, -4.8080e-02, -7.1905e-03,\n",
              "          -3.2662e-02],\n",
              "         [ 4.7044e-02, -8.3200e-02,  1.8695e-02, -3.8308e-01, -2.3723e-01,\n",
              "          -1.4819e-02,  1.0511e-02,  1.0919e-01, -4.4565e-02, -6.6420e-02,\n",
              "           1.6986e-01, -4.1974e-02,  1.9032e-01,  1.5488e-01,  2.2064e-02,\n",
              "           1.2790e-02],\n",
              "         [ 8.8245e-02, -3.8691e-02, -1.0515e-01,  1.1542e-01, -6.6226e-02,\n",
              "           1.1283e-01, -2.0028e-39, -6.1932e-39, -3.0872e-01, -1.1135e-01,\n",
              "          -1.2319e-01,  1.4300e-01, -1.2054e-01, -2.0458e-01,  1.1089e-03,\n",
              "           4.0053e-03],\n",
              "         [-4.3842e-02, -8.2043e-02,  1.0376e-01, -1.6058e-01, -1.2433e-01,\n",
              "          -2.8606e-01,  7.9104e-02, -7.5913e-03,  1.8847e-01, -5.1329e-02,\n",
              "           1.5877e-01,  1.6523e-01,  6.1227e-02, -1.8244e-01,  1.3926e-02,\n",
              "           5.0320e-03],\n",
              "         [-1.5042e-01,  2.4415e-01,  3.8528e-02,  6.9411e-02, -1.4187e-01,\n",
              "           5.5342e-02, -1.7613e-01, -6.1752e-02, -1.1859e-01,  2.9783e-02,\n",
              "           2.7725e-02,  7.0052e-02, -4.5562e-02,  2.9388e-02, -5.2892e-02,\n",
              "          -2.1959e-02],\n",
              "         [-5.3343e-02,  2.1918e-01,  1.8204e-01, -6.6539e-02, -8.5275e-02,\n",
              "          -4.5983e-02, -1.2729e-01,  2.9917e-02, -1.9135e-01, -7.3409e-02,\n",
              "           1.7903e-01,  8.2936e-02, -6.6429e-02, -2.5002e-01,  7.4329e-02,\n",
              "          -1.8276e-39],\n",
              "         [-3.7718e-39,  4.6084e-12,  8.2786e-40, -1.4416e-04, -6.4220e-03,\n",
              "           6.4187e-11,  1.0554e-10, -1.0415e-02, -2.2499e-02, -2.0268e-02,\n",
              "           2.1983e-39, -1.7163e-02, -2.2495e-02,  6.3259e-39, -5.0867e-39,\n",
              "          -2.7407e-39]], requires_grad=True), Parameter containing:\n",
              " tensor([-6.3628e-02, -3.8691e-14, -7.6293e-01,  4.4816e-01, -3.7745e-02,\n",
              "         -4.3175e-03, -7.0008e-02,  7.9942e-01,  4.8367e-02,  5.4184e-01,\n",
              "          2.1413e-01,  5.5535e-04, -5.2002e-01,  3.1973e-01,  2.3696e-01,\n",
              "          1.4005e-37], requires_grad=True), Parameter containing:\n",
              " tensor([[-0.1114, -0.0069, -0.1047,  0.1262,  0.0028, -0.0273, -0.1579,  0.0943,\n",
              "           0.1230,  0.2140,  0.0549,  0.1114, -0.0648,  0.1942,  0.1040, -0.0224]],\n",
              "        requires_grad=True), Parameter containing:\n",
              " tensor([0.6591], requires_grad=True)]"
            ]
          },
          "metadata": {
            "tags": []
          },
          "execution_count": 39
        }
      ]
    },
    {
      "cell_type": "code",
      "metadata": {
        "id": "TaU6bV7lrusK",
        "colab": {
          "base_uri": "https://localhost:8080/",
          "height": 35
        },
        "outputId": "107e2fd6-0d10-4a94-9923-de8097267793"
      },
      "source": [
        "# 30 -> 16 -> 16 -> 1\n",
        "pesos0 = params[0]\n",
        "pesos0.shape"
      ],
      "execution_count": null,
      "outputs": [
        {
          "output_type": "execute_result",
          "data": {
            "text/plain": [
              "torch.Size([16, 30])"
            ]
          },
          "metadata": {
            "tags": []
          },
          "execution_count": 41
        }
      ]
    },
    {
      "cell_type": "code",
      "metadata": {
        "id": "JRIKPKKgr94O",
        "colab": {
          "base_uri": "https://localhost:8080/",
          "height": 1000
        },
        "outputId": "7adb9449-23d5-4ec5-b080-b6e967863b29"
      },
      "source": [
        "print(pesos0)"
      ],
      "execution_count": null,
      "outputs": [
        {
          "output_type": "stream",
          "text": [
            "Parameter containing:\n",
            "tensor([[-7.0918e-02, -2.4784e-01, -2.0447e-01,  4.4381e-02, -6.6166e-03,\n",
            "          1.6759e-01,  2.1851e-02,  6.7733e-02, -1.5071e-01,  1.7265e-01,\n",
            "          6.6839e-02,  5.0973e-02, -1.2273e-01, -3.3266e-02, -1.0328e-03,\n",
            "         -3.3557e-01, -1.9727e-01, -2.2332e-01,  3.1529e-01,  4.0256e-03,\n",
            "          1.2869e-01, -2.2151e-01, -6.1942e-02,  1.4110e-01, -1.6343e-02,\n",
            "          1.2666e-01, -1.8419e-01,  5.8866e-02,  3.0419e-01,  1.9340e-01],\n",
            "        [ 1.9249e-01,  1.7303e-01,  3.0585e-01,  1.0247e-01, -1.8210e-01,\n",
            "         -1.0000e-01, -5.6555e-02, -1.8532e-01,  2.8427e-02,  1.3400e-01,\n",
            "         -9.6749e-03, -6.1995e-02, -1.9660e-02,  1.9324e-01, -9.1747e-03,\n",
            "         -1.9983e-02,  3.2470e-02,  1.9160e-01,  1.9907e-01, -1.9701e-02,\n",
            "          8.7194e-02,  2.8786e-02,  2.0073e-01, -9.8248e-06,  1.6429e-01,\n",
            "         -1.8595e-01, -2.4993e-01,  1.4592e-02, -9.9360e-02, -1.6902e-01],\n",
            "        [ 1.2520e-03,  5.4250e-02, -1.8844e-01, -1.4577e-01,  1.8664e-06,\n",
            "          7.8834e-07,  4.9525e-07,  2.6984e-07, -1.1935e-01,  2.9529e-02,\n",
            "         -2.2390e-04,  5.5627e-02, -1.2991e-01, -1.2051e-01,  9.7807e-08,\n",
            "         -4.3348e-02, -1.1751e-08, -1.6850e-07, -4.2947e-08,  3.6992e-08,\n",
            "          5.7120e-02, -5.1448e-02, -2.7039e-02, -4.4571e-02, -3.7003e-02,\n",
            "         -1.1203e-03,  6.2429e-07, -1.9236e-06, -4.9824e-02,  1.3238e-06],\n",
            "        [-3.7912e-01,  5.5240e-02, -1.6090e-01,  8.7367e-02, -1.9638e-01,\n",
            "          7.7992e-02,  1.0731e-02,  2.1449e-02,  1.3796e-01, -2.5247e-01,\n",
            "          1.6462e-01, -1.4359e-01,  3.2973e-02,  1.5080e-02, -2.3690e-03,\n",
            "          8.2990e-03, -2.2821e-02, -8.6840e-02,  1.7230e-01,  1.4069e-03,\n",
            "         -7.0080e-02, -1.5028e-01, -8.7907e-02,  2.8283e-03,  2.7904e-01,\n",
            "          7.4556e-02, -1.3531e-02,  2.4465e-01,  1.8227e-01,  3.9362e-01],\n",
            "        [-3.9235e-01,  2.5967e-02, -1.0159e-01, -1.5293e-01,  4.0044e-01,\n",
            "         -1.0571e-01,  1.4379e-01, -3.1188e-01, -2.5135e-01,  1.4730e-01,\n",
            "         -1.0082e-01,  3.0902e-02, -1.1786e-02,  2.6881e-02,  3.2354e-02,\n",
            "         -2.3875e-01, -2.3728e-01, -2.2086e-01,  2.4039e-01,  3.1963e-01,\n",
            "         -2.3492e-01,  3.9950e-02, -1.3681e-01,  2.2638e-01,  1.3964e-02,\n",
            "         -4.5358e-02, -4.6151e-01, -2.1869e-01,  3.1481e-03,  3.7541e-01],\n",
            "        [-1.5168e-02, -3.2594e-02,  7.3957e-02,  1.0395e-01,  8.6493e-02,\n",
            "          3.0690e-01, -1.6825e-01,  3.9213e-01,  2.9956e-01, -1.5078e-01,\n",
            "          2.3488e-01,  1.7408e-01, -1.1780e-01,  1.6823e-01, -1.8371e-03,\n",
            "          3.4793e-01,  4.5361e-01,  6.4737e-02, -7.3428e-02, -1.7508e-01,\n",
            "          6.7890e-02, -2.2089e-01,  4.8865e-03, -2.6281e-02, -1.8629e-01,\n",
            "         -3.3245e-02, -8.2910e-02,  2.3881e-01,  4.6817e-02, -2.2797e-01],\n",
            "        [-5.3792e-03,  1.0122e-01,  2.9513e-01, -1.3377e-01, -1.3390e-01,\n",
            "         -4.5952e-01, -5.2668e-02, -1.3200e-03,  2.6313e-01,  2.1494e-02,\n",
            "         -8.7352e-02, -2.0657e-01,  5.6098e-02,  1.0311e-01, -1.2733e-03,\n",
            "         -2.1732e-02,  1.6392e-02, -8.3721e-03,  2.5867e-02, -4.2237e-03,\n",
            "          1.2057e-01,  3.6531e-02,  2.0053e-01, -9.8732e-02, -3.3813e-01,\n",
            "          1.6738e-01,  2.0025e-01, -1.3431e-01, -2.6289e-01,  1.5829e-02],\n",
            "        [-2.9701e-01, -4.7317e-02, -1.4407e-01, -1.6320e-01,  2.7602e-01,\n",
            "          3.5915e-02, -7.0260e-02, -3.1629e-02, -1.4101e-01, -7.1150e-02,\n",
            "         -1.0708e-01, -9.1273e-02,  8.4174e-02,  1.1506e-01,  1.4850e-03,\n",
            "         -4.3024e-02, -1.5058e-01, -8.4975e-02, -1.7067e-01, -3.4802e-03,\n",
            "         -2.1852e-01,  3.4726e-02, -2.9737e-01,  9.8381e-02, -8.3549e-02,\n",
            "         -6.2852e-02,  1.5687e-02,  9.4691e-02, -1.0209e-01, -1.3387e-02],\n",
            "        [-4.7755e-02, -1.2957e-01, -3.9096e-01, -4.3058e-02,  3.3560e-01,\n",
            "          7.0882e-02, -4.8577e-01, -1.3178e-01,  1.0224e-01, -3.1825e-01,\n",
            "          1.6448e-01, -1.0227e-01,  1.1344e-01, -2.1291e-02,  1.0279e-02,\n",
            "          8.3726e-02, -1.4594e-01, -3.2204e-01,  6.7749e-03, -2.4414e-02,\n",
            "         -3.6549e-01,  1.0853e-02, -2.9803e-01,  2.1602e-01,  9.1760e-02,\n",
            "          1.3661e-01, -5.5810e-02,  2.8190e-01,  1.2220e-01,  3.3890e-01],\n",
            "        [-8.1392e-03,  1.2734e-01,  3.0391e-01,  9.0710e-03, -2.2998e-01,\n",
            "         -1.8092e-01, -4.0252e-02,  1.1820e-01, -2.1137e-02,  1.6107e-01,\n",
            "          1.1815e-01, -1.6922e-01,  1.6056e-01, -2.6476e-01, -1.5034e-02,\n",
            "          2.5143e-02,  2.7810e-01,  1.6384e-01,  4.5361e-02, -3.5199e-01,\n",
            "          1.8731e-01, -1.6148e-01,  3.2334e-01, -7.9238e-02,  3.7471e-02,\n",
            "          5.3810e-02,  9.1971e-02, -1.0372e-01,  8.7794e-02, -2.3384e-01],\n",
            "        [-1.3952e-01, -2.5995e-02,  3.4847e-02,  4.1783e-02, -7.7033e-02,\n",
            "         -2.8136e-01, -1.8754e-01, -4.7096e-02,  2.4854e-01,  4.8002e-02,\n",
            "         -1.0063e-02,  4.5103e-02, -1.1246e-01,  2.1010e-01, -5.2504e-03,\n",
            "         -2.8274e-01, -1.8826e-01, -3.4455e-01, -1.9607e-01,  2.4862e-04,\n",
            "         -2.3357e-01, -6.7143e-02,  3.3627e-02,  1.3103e-01,  4.0833e-01,\n",
            "         -1.1129e-01,  2.7042e-01,  2.2429e-01, -1.0257e-01, -5.1335e-02],\n",
            "        [ 8.4376e-02, -2.8396e-03,  1.2288e-01,  1.3471e-01,  7.8981e-02,\n",
            "          3.3081e-01, -1.0429e-01,  2.7106e-01,  2.0261e-01, -1.7067e-01,\n",
            "         -1.7138e-02,  1.0619e-01, -2.8609e-02, -3.4538e-01, -1.1162e-02,\n",
            "          3.6389e-01,  3.2425e-01,  3.5217e-01, -1.9142e-01, -2.3808e-01,\n",
            "          2.0551e-01, -4.9108e-02,  3.1061e-01, -1.3658e-01, -1.4976e-01,\n",
            "          1.5407e-01,  1.2803e-01, -2.7260e-02,  1.8844e-01, -3.5992e-01],\n",
            "        [ 1.1146e-01,  8.6601e-02, -2.8476e-01, -5.6169e-02,  1.1590e-01,\n",
            "          1.7766e-01,  2.5551e-01, -9.2816e-02, -5.5807e-02, -5.1678e-02,\n",
            "          1.3883e-01, -5.3949e-02,  9.7376e-02,  7.9819e-02,  3.5525e-03,\n",
            "          4.1941e-03, -1.2193e-01, -5.7201e-02, -2.9496e-01,  2.5469e-01,\n",
            "          6.6959e-02,  1.7783e-01, -5.0446e-02,  5.3039e-02, -7.6938e-02,\n",
            "          6.7785e-02, -1.9742e-01, -2.1404e-01,  2.6412e-02,  3.4270e-01],\n",
            "        [ 7.7033e-02, -2.0799e-02, -6.3523e-02,  3.3402e-02,  4.5260e-02,\n",
            "          9.1200e-02, -9.3445e-02,  9.6959e-03, -1.0258e-01,  5.4582e-02,\n",
            "          1.3802e-01, -1.1048e-01, -1.7905e-01,  1.0443e-01,  6.0201e-03,\n",
            "         -3.8001e-03,  1.6559e-04, -1.5747e-02,  1.6088e-01,  4.2399e-03,\n",
            "          1.2000e-01,  4.8116e-02, -4.8451e-02,  1.6399e-01, -4.0203e-02,\n",
            "          3.4166e-01, -6.6115e-02,  7.5333e-02,  4.3036e-02,  4.8007e-03],\n",
            "        [ 8.0021e-02, -1.5045e-02,  6.4358e-02, -1.3573e-01,  2.3193e-39,\n",
            "         -4.2187e-40,  6.9338e-03,  5.6308e-40, -3.3611e-02, -1.2311e-39,\n",
            "         -5.0629e-12, -1.5791e-02, -1.9636e-02, -4.0032e-02, -3.4748e-39,\n",
            "          4.6591e-39, -9.2523e-40,  5.0462e-39,  2.4679e-39,  4.7542e-41,\n",
            "          9.1675e-02,  1.0107e-01, -1.0790e-01, -1.7668e-01, -3.9068e-34,\n",
            "         -9.6466e-15,  8.4974e-03, -5.4374e-03, -6.1223e-12, -1.9924e-39],\n",
            "        [-7.2615e-03, -1.4869e-02, -1.1128e-02, -1.7006e-02,  1.7559e-02,\n",
            "          1.4228e-02,  2.0871e-02,  2.0812e-02,  3.9646e-03,  1.0985e-39,\n",
            "          2.5079e-02, -4.4255e-04, -9.6441e-03, -1.6038e-02, -6.2466e-39,\n",
            "         -5.7685e-38,  1.1981e-04,  1.2827e-06,  1.5975e-07, -1.3329e-11,\n",
            "         -9.5997e-03, -2.0610e-02, -1.4061e-02, -2.2000e-02, -1.0941e-02,\n",
            "          1.1643e-02,  2.8772e-02, -1.8500e-02,  3.5551e-02, -1.8280e-02]],\n",
            "       requires_grad=True)\n"
          ],
          "name": "stdout"
        }
      ]
    },
    {
      "cell_type": "code",
      "metadata": {
        "id": "q42zQLHFsIWC",
        "colab": {
          "base_uri": "https://localhost:8080/",
          "height": 35
        },
        "outputId": "11ac5c44-e042-4e8a-9e59-49d873d2c35a"
      },
      "source": [
        "# 30 -> 16 -> 16 -> 1\n",
        "bias0 = params[1]\n",
        "bias0.shape"
      ],
      "execution_count": null,
      "outputs": [
        {
          "output_type": "execute_result",
          "data": {
            "text/plain": [
              "torch.Size([16])"
            ]
          },
          "metadata": {
            "tags": []
          },
          "execution_count": 43
        }
      ]
    },
    {
      "cell_type": "code",
      "metadata": {
        "id": "3IWG8GFjsTr5",
        "colab": {
          "base_uri": "https://localhost:8080/",
          "height": 35
        },
        "outputId": "8170c305-39d6-438f-fd84-64b14225236c"
      },
      "source": [
        "pesos1 = params[2]\n",
        "pesos1.shape"
      ],
      "execution_count": null,
      "outputs": [
        {
          "output_type": "execute_result",
          "data": {
            "text/plain": [
              "torch.Size([16, 16])"
            ]
          },
          "metadata": {
            "tags": []
          },
          "execution_count": 44
        }
      ]
    },
    {
      "cell_type": "code",
      "metadata": {
        "id": "yfgtWyWrsbbY",
        "colab": {
          "base_uri": "https://localhost:8080/",
          "height": 35
        },
        "outputId": "69541407-f90d-4535-b0cf-b8aef2a5678c"
      },
      "source": [
        "bias1 = params[3]\n",
        "bias1.shape"
      ],
      "execution_count": null,
      "outputs": [
        {
          "output_type": "execute_result",
          "data": {
            "text/plain": [
              "torch.Size([16])"
            ]
          },
          "metadata": {
            "tags": []
          },
          "execution_count": 45
        }
      ]
    },
    {
      "cell_type": "markdown",
      "metadata": {
        "id": "AyTjLzELSdQF"
      },
      "source": [
        "## Etapa 7: Avaliação do modelo"
      ]
    },
    {
      "cell_type": "code",
      "metadata": {
        "id": "ZafmlssFs5SG",
        "colab": {
          "base_uri": "https://localhost:8080/",
          "height": 155
        },
        "outputId": "0ae6be37-f4c9-43d7-ac69-45688e3af448"
      },
      "source": [
        "classificador.eval()"
      ],
      "execution_count": null,
      "outputs": [
        {
          "output_type": "execute_result",
          "data": {
            "text/plain": [
              "Sequential(\n",
              "  (0): Linear(in_features=30, out_features=16, bias=True)\n",
              "  (1): ReLU()\n",
              "  (2): Linear(in_features=16, out_features=16, bias=True)\n",
              "  (3): ReLU()\n",
              "  (4): Linear(in_features=16, out_features=1, bias=True)\n",
              "  (5): Sigmoid()\n",
              ")"
            ]
          },
          "metadata": {
            "tags": []
          },
          "execution_count": 46
        }
      ]
    },
    {
      "cell_type": "code",
      "metadata": {
        "id": "7C3BgZGGtJvp",
        "colab": {
          "base_uri": "https://localhost:8080/",
          "height": 35
        },
        "outputId": "5fc4efdb-1567-42d5-f819-f263f0d37e43"
      },
      "source": [
        "type(previsores_teste)"
      ],
      "execution_count": null,
      "outputs": [
        {
          "output_type": "execute_result",
          "data": {
            "text/plain": [
              "pandas.core.frame.DataFrame"
            ]
          },
          "metadata": {
            "tags": []
          },
          "execution_count": 47
        }
      ]
    },
    {
      "cell_type": "code",
      "metadata": {
        "id": "PuL49MUEtOrh"
      },
      "source": [
        "previsores_teste = torch.tensor(np.array(previsores_teste), dtype=torch.float)"
      ],
      "execution_count": null,
      "outputs": []
    },
    {
      "cell_type": "code",
      "metadata": {
        "id": "LmAqJEHHtZNC",
        "colab": {
          "base_uri": "https://localhost:8080/",
          "height": 35
        },
        "outputId": "9cf4012f-9009-44d9-825c-175912856913"
      },
      "source": [
        "type(previsores_teste)"
      ],
      "execution_count": null,
      "outputs": [
        {
          "output_type": "execute_result",
          "data": {
            "text/plain": [
              "torch.Tensor"
            ]
          },
          "metadata": {
            "tags": []
          },
          "execution_count": 49
        }
      ]
    },
    {
      "cell_type": "code",
      "metadata": {
        "id": "Fe8muTxbtc1G"
      },
      "source": [
        "previsoes = classificador.forward(previsores_teste)"
      ],
      "execution_count": null,
      "outputs": []
    },
    {
      "cell_type": "code",
      "metadata": {
        "id": "fn0leHiAtqpx",
        "colab": {
          "base_uri": "https://localhost:8080/",
          "height": 1000
        },
        "outputId": "a85b9b7f-998b-4bf0-fd54-650e1824e771"
      },
      "source": [
        "previsoes"
      ],
      "execution_count": null,
      "outputs": [
        {
          "output_type": "execute_result",
          "data": {
            "text/plain": [
              "tensor([[9.8956e-01],\n",
              "        [1.0000e+00],\n",
              "        [6.8384e-03],\n",
              "        [9.7550e-01],\n",
              "        [4.5597e-04],\n",
              "        [9.5273e-01],\n",
              "        [9.2892e-01],\n",
              "        [9.9987e-01],\n",
              "        [4.7272e-01],\n",
              "        [8.5244e-01],\n",
              "        [8.1941e-01],\n",
              "        [9.9590e-01],\n",
              "        [5.3159e-01],\n",
              "        [9.9293e-01],\n",
              "        [9.8545e-01],\n",
              "        [7.5507e-01],\n",
              "        [9.9268e-01],\n",
              "        [1.0000e+00],\n",
              "        [4.0525e-01],\n",
              "        [9.9965e-01],\n",
              "        [5.6184e-10],\n",
              "        [1.3932e-02],\n",
              "        [5.3859e-01],\n",
              "        [1.0000e+00],\n",
              "        [8.7227e-01],\n",
              "        [6.2769e-03],\n",
              "        [6.1371e-01],\n",
              "        [1.0000e+00],\n",
              "        [4.1813e-04],\n",
              "        [9.9682e-01],\n",
              "        [2.4819e-01],\n",
              "        [9.9999e-01],\n",
              "        [9.0120e-01],\n",
              "        [9.6962e-01],\n",
              "        [4.2945e-03],\n",
              "        [9.9519e-01],\n",
              "        [5.0036e-01],\n",
              "        [9.9906e-01],\n",
              "        [9.9997e-01],\n",
              "        [1.2526e-04],\n",
              "        [1.5756e-02],\n",
              "        [8.3985e-01],\n",
              "        [2.3040e-04],\n",
              "        [3.1037e-01],\n",
              "        [3.7558e-04],\n",
              "        [6.2674e-01],\n",
              "        [9.2291e-05],\n",
              "        [2.5582e-21],\n",
              "        [7.6569e-01],\n",
              "        [3.5138e-03],\n",
              "        [8.9625e-01],\n",
              "        [6.3513e-15],\n",
              "        [9.4757e-01],\n",
              "        [9.0683e-01],\n",
              "        [9.9268e-01],\n",
              "        [4.7407e-01],\n",
              "        [9.9955e-01],\n",
              "        [9.4700e-07],\n",
              "        [1.1967e-03],\n",
              "        [9.8436e-01],\n",
              "        [1.3689e-04],\n",
              "        [9.9663e-01],\n",
              "        [9.9166e-01],\n",
              "        [9.9909e-01],\n",
              "        [6.9852e-01],\n",
              "        [4.4502e-07],\n",
              "        [1.0000e+00],\n",
              "        [1.0000e+00],\n",
              "        [1.0000e+00],\n",
              "        [7.4980e-01],\n",
              "        [1.0000e+00],\n",
              "        [9.6216e-01],\n",
              "        [7.7662e-02],\n",
              "        [8.5411e-01],\n",
              "        [2.1104e-03],\n",
              "        [7.8960e-01],\n",
              "        [9.3728e-01],\n",
              "        [1.2287e-09],\n",
              "        [5.7798e-05],\n",
              "        [2.2481e-01],\n",
              "        [8.8005e-01],\n",
              "        [3.9363e-07],\n",
              "        [4.0896e-07],\n",
              "        [9.8771e-01],\n",
              "        [1.0000e+00],\n",
              "        [1.0000e+00],\n",
              "        [8.7375e-02],\n",
              "        [9.9322e-01],\n",
              "        [3.3133e-03],\n",
              "        [7.9555e-01],\n",
              "        [9.3449e-03],\n",
              "        [9.6347e-01],\n",
              "        [9.9871e-01],\n",
              "        [2.8820e-02],\n",
              "        [9.9441e-01],\n",
              "        [9.9997e-01],\n",
              "        [9.9855e-01],\n",
              "        [9.9661e-01],\n",
              "        [2.1712e-02],\n",
              "        [1.0000e+00],\n",
              "        [9.9915e-01],\n",
              "        [1.0000e+00],\n",
              "        [9.9407e-01],\n",
              "        [9.0793e-01],\n",
              "        [7.5127e-01],\n",
              "        [1.0000e+00],\n",
              "        [1.0000e+00],\n",
              "        [9.9331e-01],\n",
              "        [1.0000e+00],\n",
              "        [9.9562e-01],\n",
              "        [1.0000e+00],\n",
              "        [9.9999e-01],\n",
              "        [8.1239e-01],\n",
              "        [9.3836e-05],\n",
              "        [9.7275e-01],\n",
              "        [8.5064e-04],\n",
              "        [9.9717e-01],\n",
              "        [4.4352e-04],\n",
              "        [9.9707e-01],\n",
              "        [9.9057e-01],\n",
              "        [9.1071e-01],\n",
              "        [8.7306e-01],\n",
              "        [9.9995e-01],\n",
              "        [9.9886e-01],\n",
              "        [1.8443e-06],\n",
              "        [9.9208e-01],\n",
              "        [3.2496e-01],\n",
              "        [2.7609e-01],\n",
              "        [9.9997e-01],\n",
              "        [9.9800e-01],\n",
              "        [1.0628e-07],\n",
              "        [9.6440e-01],\n",
              "        [1.0000e+00],\n",
              "        [1.8935e-02],\n",
              "        [1.9676e-05],\n",
              "        [9.6399e-01],\n",
              "        [9.8976e-01],\n",
              "        [9.9920e-01],\n",
              "        [2.0671e-01],\n",
              "        [1.0999e-05],\n",
              "        [3.4223e-05],\n",
              "        [9.8669e-01],\n",
              "        [2.7900e-09]], grad_fn=<SigmoidBackward>)"
            ]
          },
          "metadata": {
            "tags": []
          },
          "execution_count": 51
        }
      ]
    },
    {
      "cell_type": "code",
      "metadata": {
        "id": "MzALzgDet3Hr",
        "colab": {
          "base_uri": "https://localhost:8080/",
          "height": 1000
        },
        "outputId": "19db47e8-a5fc-4226-8c32-145c47be31ad"
      },
      "source": [
        "previsoes = np.array(previsoes > 0.5)\n",
        "previsoes"
      ],
      "execution_count": null,
      "outputs": [
        {
          "output_type": "execute_result",
          "data": {
            "text/plain": [
              "array([[ True],\n",
              "       [ True],\n",
              "       [False],\n",
              "       [ True],\n",
              "       [False],\n",
              "       [ True],\n",
              "       [ True],\n",
              "       [ True],\n",
              "       [False],\n",
              "       [ True],\n",
              "       [ True],\n",
              "       [ True],\n",
              "       [ True],\n",
              "       [ True],\n",
              "       [ True],\n",
              "       [ True],\n",
              "       [ True],\n",
              "       [ True],\n",
              "       [False],\n",
              "       [ True],\n",
              "       [False],\n",
              "       [False],\n",
              "       [ True],\n",
              "       [ True],\n",
              "       [ True],\n",
              "       [False],\n",
              "       [ True],\n",
              "       [ True],\n",
              "       [False],\n",
              "       [ True],\n",
              "       [False],\n",
              "       [ True],\n",
              "       [ True],\n",
              "       [ True],\n",
              "       [False],\n",
              "       [ True],\n",
              "       [ True],\n",
              "       [ True],\n",
              "       [ True],\n",
              "       [False],\n",
              "       [False],\n",
              "       [ True],\n",
              "       [False],\n",
              "       [False],\n",
              "       [False],\n",
              "       [ True],\n",
              "       [False],\n",
              "       [False],\n",
              "       [ True],\n",
              "       [False],\n",
              "       [ True],\n",
              "       [False],\n",
              "       [ True],\n",
              "       [ True],\n",
              "       [ True],\n",
              "       [False],\n",
              "       [ True],\n",
              "       [False],\n",
              "       [False],\n",
              "       [ True],\n",
              "       [False],\n",
              "       [ True],\n",
              "       [ True],\n",
              "       [ True],\n",
              "       [ True],\n",
              "       [False],\n",
              "       [ True],\n",
              "       [ True],\n",
              "       [ True],\n",
              "       [ True],\n",
              "       [ True],\n",
              "       [ True],\n",
              "       [False],\n",
              "       [ True],\n",
              "       [False],\n",
              "       [ True],\n",
              "       [ True],\n",
              "       [False],\n",
              "       [False],\n",
              "       [False],\n",
              "       [ True],\n",
              "       [False],\n",
              "       [False],\n",
              "       [ True],\n",
              "       [ True],\n",
              "       [ True],\n",
              "       [False],\n",
              "       [ True],\n",
              "       [False],\n",
              "       [ True],\n",
              "       [False],\n",
              "       [ True],\n",
              "       [ True],\n",
              "       [False],\n",
              "       [ True],\n",
              "       [ True],\n",
              "       [ True],\n",
              "       [ True],\n",
              "       [False],\n",
              "       [ True],\n",
              "       [ True],\n",
              "       [ True],\n",
              "       [ True],\n",
              "       [ True],\n",
              "       [ True],\n",
              "       [ True],\n",
              "       [ True],\n",
              "       [ True],\n",
              "       [ True],\n",
              "       [ True],\n",
              "       [ True],\n",
              "       [ True],\n",
              "       [ True],\n",
              "       [False],\n",
              "       [ True],\n",
              "       [False],\n",
              "       [ True],\n",
              "       [False],\n",
              "       [ True],\n",
              "       [ True],\n",
              "       [ True],\n",
              "       [ True],\n",
              "       [ True],\n",
              "       [ True],\n",
              "       [False],\n",
              "       [ True],\n",
              "       [False],\n",
              "       [False],\n",
              "       [ True],\n",
              "       [ True],\n",
              "       [False],\n",
              "       [ True],\n",
              "       [ True],\n",
              "       [False],\n",
              "       [False],\n",
              "       [ True],\n",
              "       [ True],\n",
              "       [ True],\n",
              "       [False],\n",
              "       [False],\n",
              "       [False],\n",
              "       [ True],\n",
              "       [False]])"
            ]
          },
          "metadata": {
            "tags": []
          },
          "execution_count": 52
        }
      ]
    },
    {
      "cell_type": "code",
      "metadata": {
        "id": "YVPFTbGeuSU5",
        "colab": {
          "base_uri": "https://localhost:8080/",
          "height": 407
        },
        "outputId": "bb9afbd9-ffb1-4ff6-f1d3-cd49f4ab61b5"
      },
      "source": [
        "classe_teste"
      ],
      "execution_count": null,
      "outputs": [
        {
          "output_type": "execute_result",
          "data": {
            "text/html": [
              "<div>\n",
              "<style scoped>\n",
              "    .dataframe tbody tr th:only-of-type {\n",
              "        vertical-align: middle;\n",
              "    }\n",
              "\n",
              "    .dataframe tbody tr th {\n",
              "        vertical-align: top;\n",
              "    }\n",
              "\n",
              "    .dataframe thead th {\n",
              "        text-align: right;\n",
              "    }\n",
              "</style>\n",
              "<table border=\"1\" class=\"dataframe\">\n",
              "  <thead>\n",
              "    <tr style=\"text-align: right;\">\n",
              "      <th></th>\n",
              "      <th>0</th>\n",
              "    </tr>\n",
              "  </thead>\n",
              "  <tbody>\n",
              "    <tr>\n",
              "      <th>333</th>\n",
              "      <td>1</td>\n",
              "    </tr>\n",
              "    <tr>\n",
              "      <th>273</th>\n",
              "      <td>1</td>\n",
              "    </tr>\n",
              "    <tr>\n",
              "      <th>201</th>\n",
              "      <td>0</td>\n",
              "    </tr>\n",
              "    <tr>\n",
              "      <th>178</th>\n",
              "      <td>1</td>\n",
              "    </tr>\n",
              "    <tr>\n",
              "      <th>85</th>\n",
              "      <td>0</td>\n",
              "    </tr>\n",
              "    <tr>\n",
              "      <th>...</th>\n",
              "      <td>...</td>\n",
              "    </tr>\n",
              "    <tr>\n",
              "      <th>230</th>\n",
              "      <td>0</td>\n",
              "    </tr>\n",
              "    <tr>\n",
              "      <th>282</th>\n",
              "      <td>0</td>\n",
              "    </tr>\n",
              "    <tr>\n",
              "      <th>535</th>\n",
              "      <td>0</td>\n",
              "    </tr>\n",
              "    <tr>\n",
              "      <th>436</th>\n",
              "      <td>1</td>\n",
              "    </tr>\n",
              "    <tr>\n",
              "      <th>236</th>\n",
              "      <td>0</td>\n",
              "    </tr>\n",
              "  </tbody>\n",
              "</table>\n",
              "<p>143 rows × 1 columns</p>\n",
              "</div>"
            ],
            "text/plain": [
              "     0\n",
              "333  1\n",
              "273  1\n",
              "201  0\n",
              "178  1\n",
              "85   0\n",
              "..  ..\n",
              "230  0\n",
              "282  0\n",
              "535  0\n",
              "436  1\n",
              "236  0\n",
              "\n",
              "[143 rows x 1 columns]"
            ]
          },
          "metadata": {
            "tags": []
          },
          "execution_count": 53
        }
      ]
    },
    {
      "cell_type": "code",
      "metadata": {
        "id": "U7jfnFtZuNVn",
        "colab": {
          "base_uri": "https://localhost:8080/",
          "height": 35
        },
        "outputId": "318e00a5-c292-4d5b-f1af-263509b93d96"
      },
      "source": [
        "taxa_acerto = accuracy_score(classe_teste, previsoes)\n",
        "taxa_acerto"
      ],
      "execution_count": null,
      "outputs": [
        {
          "output_type": "execute_result",
          "data": {
            "text/plain": [
              "0.9090909090909091"
            ]
          },
          "metadata": {
            "tags": []
          },
          "execution_count": 54
        }
      ]
    },
    {
      "cell_type": "code",
      "metadata": {
        "id": "g0Z3LgbcutQD",
        "colab": {
          "base_uri": "https://localhost:8080/",
          "height": 52
        },
        "outputId": "edd8f508-e9f6-45a5-fd4d-cb00dc357df2"
      },
      "source": [
        "matriz = confusion_matrix(classe_teste, previsoes)\n",
        "matriz"
      ],
      "execution_count": null,
      "outputs": [
        {
          "output_type": "execute_result",
          "data": {
            "text/plain": [
              "array([[45,  9],\n",
              "       [ 4, 85]])"
            ]
          },
          "metadata": {
            "tags": []
          },
          "execution_count": 55
        }
      ]
    },
    {
      "cell_type": "code",
      "metadata": {
        "id": "BlaTftH_uzpv",
        "colab": {
          "base_uri": "https://localhost:8080/",
          "height": 265
        },
        "outputId": "9fc8e761-2d88-4c5f-ec84-ec9c543ac213"
      },
      "source": [
        "sns.heatmap(matriz, annot=True);"
      ],
      "execution_count": null,
      "outputs": [
        {
          "output_type": "display_data",
          "data": {
            "image/png": "[encoded data removed]",
            "text/plain": [
              "<Figure size 432x288 with 2 Axes>"
            ]
          },
          "metadata": {
            "tags": []
          }
        }
      ]
    }
  ]
}